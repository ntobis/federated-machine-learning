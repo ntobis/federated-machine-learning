{
 "cells": [
  {
   "cell_type": "code",
   "execution_count": 1,
   "metadata": {},
   "outputs": [],
   "source": [
    "import os, sys\n",
    "import pandas as pd\n",
    "import numpy as np\n",
    "from functools import reduce\n",
    "\n",
    "module_path = os.path.abspath(os.path.join('..'))\n",
    "if module_path not in sys.path:\n",
    "    sys.path.append(module_path)\n",
    "\n",
    "from Scripts import Data_Loader_Functions as dL\n",
    "from Scripts import Results_Evaluation as rE\n",
    "RESULTS = os.path.join(module_path, 'Results', 'Thesis')\n",
    "DATA = os.path.join(module_path, 'Data', 'Augmented Data', 'Flexible Augmentation')"
   ]
  },
  {
   "cell_type": "markdown",
   "metadata": {},
   "source": [
    "## Load relevant variables"
   ]
  },
  {
   "cell_type": "code",
   "execution_count": 2,
   "metadata": {},
   "outputs": [],
   "source": [
    "pd.options.display.float_format = '{:,.1%}'.format"
   ]
  },
  {
   "cell_type": "code",
   "execution_count": 3,
   "metadata": {},
   "outputs": [],
   "source": [
    "pivot = dL.create_pivot(os.path.join(DATA, 'group_2'), 'Session', 'Person', 'Session')\n",
    "subjects = dL.create_pain_df(os.path.join(DATA, 'group_2'))['Person'].unique()"
   ]
  },
  {
   "cell_type": "code",
   "execution_count": 4,
   "metadata": {},
   "outputs": [],
   "source": [
    "results = {}"
   ]
  },
  {
   "cell_type": "markdown",
   "metadata": {},
   "source": [
    "## Metric & Type"
   ]
  },
  {
   "cell_type": "code",
   "execution_count": null,
   "metadata": {},
   "outputs": [],
   "source": [
    "metric = 'accuracy'\n",
    "view_by = 'person'"
   ]
  },
  {
   "cell_type": "markdown",
   "metadata": {},
   "source": [
    "## Base"
   ]
  },
  {
   "cell_type": "code",
   "execution_count": null,
   "metadata": {},
   "outputs": [],
   "source": [
    "EXPERIMENT = os.path.join(RESULTS, '1 - CNN - Base')\n",
    "results['Base'] = rE.results_table(EXPERIMENT, metric, view_by, subjects, pivot)\n",
    "results['Base']"
   ]
  },
  {
   "cell_type": "markdown",
   "metadata": {},
   "source": [
    "## Exclude Pain Level \"0\" from training"
   ]
  },
  {
   "cell_type": "code",
   "execution_count": null,
   "metadata": {},
   "outputs": [],
   "source": [
    "EXPERIMENT = os.path.join(RESULTS, '2 - CNN - Pain Gap')\n",
    "results['Pain Level 0'] = rE.results_table(EXPERIMENT, metric, view_by, subjects, pivot)\n",
    "results['Pain Level 0']"
   ]
  },
  {
   "cell_type": "markdown",
   "metadata": {},
   "source": [
    "## Use RMSProp as an optimizer instead of SGD"
   ]
  },
  {
   "cell_type": "code",
   "execution_count": null,
   "metadata": {},
   "outputs": [],
   "source": [
    "EXPERIMENT = os.path.join(RESULTS, '3 - CNN - RMS Prop')\n",
    "results['RMSProp'] = rE.results_table(EXPERIMENT, metric, view_by, subjects, pivot)\n",
    "results['RMSProp']"
   ]
  },
  {
   "cell_type": "markdown",
   "metadata": {},
   "source": [
    "## ResNet Base"
   ]
  },
  {
   "cell_type": "code",
   "execution_count": null,
   "metadata": {},
   "outputs": [],
   "source": [
    "EXPERIMENT = os.path.join(RESULTS, '4 - ResNet - Base')\n",
    "results['ResNet'] = rE.results_table(EXPERIMENT, metric, view_by, subjects, pivot)\n",
    "results['ResNet']"
   ]
  },
  {
   "cell_type": "markdown",
   "metadata": {},
   "source": [
    "## CNN - No Max Pooling After Last Conv2D Layer"
   ]
  },
  {
   "cell_type": "code",
   "execution_count": null,
   "metadata": {},
   "outputs": [],
   "source": [
    "EXPERIMENT = os.path.join(RESULTS, '5 - CNN - No MaxPool after Conv2D')\n",
    "results['No Global Max Pooling'] = rE.results_table(EXPERIMENT, metric, view_by, subjects, pivot)\n",
    "results['No Global Max Pooling']"
   ]
  },
  {
   "cell_type": "markdown",
   "metadata": {},
   "source": [
    "## Convolution + Activation ReLU"
   ]
  },
  {
   "cell_type": "code",
   "execution_count": null,
   "metadata": {},
   "outputs": [],
   "source": [
    "EXPERIMENT = os.path.join(RESULTS, '6 - Activation')\n",
    "results['ReLU'] = rE.results_table(EXPERIMENT, metric, view_by, subjects, pivot)\n",
    "results['ReLU']"
   ]
  },
  {
   "cell_type": "markdown",
   "metadata": {},
   "source": [
    "## Convolution + Batch Norm"
   ]
  },
  {
   "cell_type": "code",
   "execution_count": null,
   "metadata": {},
   "outputs": [],
   "source": [
    "EXPERIMENT = os.path.join(RESULTS, '7 - Batch Norm')\n",
    "results['Batch Norm'] = rE.results_table(EXPERIMENT, metric, view_by, subjects, pivot)\n",
    "results['Batch Norm']"
   ]
  },
  {
   "cell_type": "markdown",
   "metadata": {},
   "source": [
    "## Convolution + Batch Norm + ReLU"
   ]
  },
  {
   "cell_type": "code",
   "execution_count": null,
   "metadata": {},
   "outputs": [],
   "source": [
    "EXPERIMENT = os.path.join(RESULTS, '8 - Activation and Batch Norm')\n",
    "results['ReLU + Batch Norm'] = rE.results_table(EXPERIMENT, metric, view_by, subjects, pivot)\n",
    "results['ReLU + Batch Norm']"
   ]
  },
  {
   "cell_type": "markdown",
   "metadata": {},
   "source": [
    "## Convolution + Batch Norm + ReLU"
   ]
  },
  {
   "cell_type": "code",
   "execution_count": null,
   "metadata": {},
   "outputs": [],
   "source": [
    "EXPERIMENT = os.path.join(RESULTS, '9 - Activation, Batch Norm, No Global MaxPool')\n",
    "results['ReLU + Batch Norm + No Glob Max Pool'] = rE.results_table(EXPERIMENT, metric, view_by, subjects, pivot)\n",
    "results['ReLU + Batch Norm + No Glob Max Pool']"
   ]
  },
  {
   "cell_type": "markdown",
   "metadata": {},
   "source": [
    "## Convolution + Batch Norm + ReLU"
   ]
  },
  {
   "cell_type": "code",
   "execution_count": null,
   "metadata": {},
   "outputs": [],
   "source": [
    "EXPERIMENT = os.path.join(RESULTS, '10 - Replace Stride with Pooling')\n",
    "results['Replace Stride with Pooling'] = rE.results_table(EXPERIMENT, metric, view_by, subjects, pivot)\n",
    "results['Replace Stride with Pooling']"
   ]
  },
  {
   "cell_type": "markdown",
   "metadata": {},
   "source": [
    "## All Modifications"
   ]
  },
  {
   "cell_type": "code",
   "execution_count": null,
   "metadata": {},
   "outputs": [],
   "source": [
    "EXPERIMENT = os.path.join(RESULTS, '11 - All Modifications')\n",
    "results['All Modifications'] = rE.results_table(EXPERIMENT, metric, view_by, subjects, pivot)\n",
    "results['All Modifications']"
   ]
  },
  {
   "cell_type": "markdown",
   "metadata": {},
   "source": [
    "## Personalization"
   ]
  },
  {
   "cell_type": "code",
   "execution_count": null,
   "metadata": {},
   "outputs": [],
   "source": [
    "EXPERIMENT = os.path.join(RESULTS, '12 - Personalization, Same Padding, Max Pool, Activation, Batch Norm')\n",
    "results['Same Padding'] = rE.results_table(EXPERIMENT, metric, view_by, subjects, pivot)\n",
    "results['Same Padding']"
   ]
  },
  {
   "cell_type": "markdown",
   "metadata": {},
   "source": [
    "## Joint Results - All Experiments"
   ]
  },
  {
   "cell_type": "code",
   "execution_count": null,
   "metadata": {},
   "outputs": [],
   "source": [
    "result_df = pd.DataFrame()\n",
    "for key, df in results.items():\n",
    "    result_df[key] = df['Weighted Mean']\n",
    "result_df"
   ]
  },
  {
   "cell_type": "markdown",
   "metadata": {},
   "source": [
    "# SEEDS"
   ]
  },
  {
   "cell_type": "markdown",
   "metadata": {},
   "source": [
    "## Seed 123"
   ]
  },
  {
   "cell_type": "code",
   "execution_count": null,
   "metadata": {},
   "outputs": [],
   "source": [
    "EXPERIMENT = os.path.join(RESULTS, '13 - Seed 123')\n",
    "results['Seed 123'] = rE.results_table(EXPERIMENT, metric, view_by, subjects, pivot)\n",
    "results['Seed 123']"
   ]
  },
  {
   "cell_type": "markdown",
   "metadata": {},
   "source": [
    "## Seed 124"
   ]
  },
  {
   "cell_type": "code",
   "execution_count": null,
   "metadata": {},
   "outputs": [],
   "source": [
    "EXPERIMENT = os.path.join(RESULTS, '14 - Seed 124')\n",
    "results['Seed 124'] = rE.results_table(EXPERIMENT, metric, view_by, subjects, pivot)\n",
    "results['Seed 124']"
   ]
  },
  {
   "cell_type": "markdown",
   "metadata": {},
   "source": [
    "## Seed 125"
   ]
  },
  {
   "cell_type": "code",
   "execution_count": null,
   "metadata": {},
   "outputs": [],
   "source": [
    "EXPERIMENT = os.path.join(RESULTS, '15 - Seed 125')\n",
    "results['Seed 125'] = rE.results_table(EXPERIMENT, metric, view_by, subjects, pivot)\n",
    "results['Seed 125']"
   ]
  },
  {
   "cell_type": "markdown",
   "metadata": {},
   "source": [
    "## Seed 131"
   ]
  },
  {
   "cell_type": "code",
   "execution_count": null,
   "metadata": {},
   "outputs": [],
   "source": [
    "EXPERIMENT = os.path.join(RESULTS, '131 - Seed 131')\n",
    "results['Seed 131'] = rE.results_table(EXPERIMENT, metric, view_by, subjects, pivot)\n",
    "results['Seed 131']"
   ]
  },
  {
   "cell_type": "code",
   "execution_count": null,
   "metadata": {},
   "outputs": [],
   "source": [
    "EXPERIMENT = os.path.join(RESULTS, '132 - Seed 132')\n",
    "results['Seed 132'] = rE.results_table(EXPERIMENT, metric, view_by, subjects, pivot)\n",
    "results['Seed 132']"
   ]
  },
  {
   "cell_type": "markdown",
   "metadata": {},
   "source": [
    "# Average Seeds"
   ]
  },
  {
   "cell_type": "code",
   "execution_count": 5,
   "metadata": {},
   "outputs": [],
   "source": [
    "average_results = rE.compute_average_metrics('person', subjects, pivot, RESULTS)"
   ]
  },
  {
   "cell_type": "code",
   "execution_count": 6,
   "metadata": {},
   "outputs": [],
   "source": [
    "path = os.path.join(os.path.dirname(RESULTS), '_old')"
   ]
  },
  {
   "cell_type": "code",
   "execution_count": 7,
   "metadata": {},
   "outputs": [],
   "source": [
    "average_results_old = rE.compute_average_metrics('person', subjects, pivot, path)"
   ]
  },
  {
   "cell_type": "code",
   "execution_count": 9,
   "metadata": {},
   "outputs": [
    {
     "data": {
      "text/html": [
       "<div>\n",
       "<style scoped>\n",
       "    .dataframe tbody tr th:only-of-type {\n",
       "        vertical-align: middle;\n",
       "    }\n",
       "\n",
       "    .dataframe tbody tr th {\n",
       "        vertical-align: top;\n",
       "    }\n",
       "\n",
       "    .dataframe thead th {\n",
       "        text-align: right;\n",
       "    }\n",
       "</style>\n",
       "<table border=\"1\" class=\"dataframe\">\n",
       "  <thead>\n",
       "    <tr style=\"text-align: right;\">\n",
       "      <th></th>\n",
       "      <th>43</th>\n",
       "      <th>48</th>\n",
       "      <th>52</th>\n",
       "      <th>59</th>\n",
       "      <th>64</th>\n",
       "      <th>80</th>\n",
       "      <th>92</th>\n",
       "      <th>96</th>\n",
       "      <th>107</th>\n",
       "      <th>109</th>\n",
       "      <th>115</th>\n",
       "      <th>120</th>\n",
       "      <th>Weighted Mean</th>\n",
       "      <th>Weighted SD</th>\n",
       "      <th>Mean</th>\n",
       "      <th>SD</th>\n",
       "    </tr>\n",
       "    <tr>\n",
       "      <th>Experiment</th>\n",
       "      <th></th>\n",
       "      <th></th>\n",
       "      <th></th>\n",
       "      <th></th>\n",
       "      <th></th>\n",
       "      <th></th>\n",
       "      <th></th>\n",
       "      <th></th>\n",
       "      <th></th>\n",
       "      <th></th>\n",
       "      <th></th>\n",
       "      <th></th>\n",
       "      <th></th>\n",
       "      <th></th>\n",
       "      <th></th>\n",
       "      <th></th>\n",
       "    </tr>\n",
       "  </thead>\n",
       "  <tbody>\n",
       "    <tr>\n",
       "      <th>0-sessions-Baseline-central-pre-training</th>\n",
       "      <td>70.4%</td>\n",
       "      <td>78.5%</td>\n",
       "      <td>92.2%</td>\n",
       "      <td>47.4%</td>\n",
       "      <td>90.7%</td>\n",
       "      <td>56.6%</td>\n",
       "      <td>68.1%</td>\n",
       "      <td>78.6%</td>\n",
       "      <td>64.2%</td>\n",
       "      <td>76.2%</td>\n",
       "      <td>69.1%</td>\n",
       "      <td>72.3%</td>\n",
       "      <td>72.5%</td>\n",
       "      <td>11.9%</td>\n",
       "      <td>72.0%</td>\n",
       "      <td>13.0%</td>\n",
       "    </tr>\n",
       "    <tr>\n",
       "      <th>0-sessions-Baseline-federated-pre-training</th>\n",
       "      <td>66.5%</td>\n",
       "      <td>74.0%</td>\n",
       "      <td>85.7%</td>\n",
       "      <td>70.6%</td>\n",
       "      <td>89.8%</td>\n",
       "      <td>57.1%</td>\n",
       "      <td>63.0%</td>\n",
       "      <td>80.2%</td>\n",
       "      <td>65.7%</td>\n",
       "      <td>73.7%</td>\n",
       "      <td>89.7%</td>\n",
       "      <td>72.3%</td>\n",
       "      <td>73.8%</td>\n",
       "      <td>11.8%</td>\n",
       "      <td>74.0%</td>\n",
       "      <td>10.8%</td>\n",
       "    </tr>\n",
       "    <tr>\n",
       "      <th>1-sessions-Centralized-no-pre-training</th>\n",
       "      <td>72.3%</td>\n",
       "      <td>69.2%</td>\n",
       "      <td>83.9%</td>\n",
       "      <td>50.1%</td>\n",
       "      <td>75.4%</td>\n",
       "      <td>57.6%</td>\n",
       "      <td>49.5%</td>\n",
       "      <td>83.2%</td>\n",
       "      <td>60.1%</td>\n",
       "      <td>70.4%</td>\n",
       "      <td>86.0%</td>\n",
       "      <td>64.0%</td>\n",
       "      <td>69.2%</td>\n",
       "      <td>16.8%</td>\n",
       "      <td>68.5%</td>\n",
       "      <td>14.4%</td>\n",
       "    </tr>\n",
       "    <tr>\n",
       "      <th>2-sessions-Centralized-pre-training</th>\n",
       "      <td>80.1%</td>\n",
       "      <td>78.3%</td>\n",
       "      <td>81.9%</td>\n",
       "      <td>47.3%</td>\n",
       "      <td>90.5%</td>\n",
       "      <td>62.5%</td>\n",
       "      <td>75.1%</td>\n",
       "      <td>84.8%</td>\n",
       "      <td>67.7%</td>\n",
       "      <td>77.0%</td>\n",
       "      <td>87.8%</td>\n",
       "      <td>66.2%</td>\n",
       "      <td>75.3%</td>\n",
       "      <td>13.2%</td>\n",
       "      <td>74.9%</td>\n",
       "      <td>12.5%</td>\n",
       "    </tr>\n",
       "    <tr>\n",
       "      <th>3-sessions-Federated-no-pre-training</th>\n",
       "      <td>70.7%</td>\n",
       "      <td>69.2%</td>\n",
       "      <td>86.5%</td>\n",
       "      <td>50.1%</td>\n",
       "      <td>72.7%</td>\n",
       "      <td>55.9%</td>\n",
       "      <td>56.6%</td>\n",
       "      <td>67.5%</td>\n",
       "      <td>65.3%</td>\n",
       "      <td>48.1%</td>\n",
       "      <td>76.7%</td>\n",
       "      <td>48.8%</td>\n",
       "      <td>65.8%</td>\n",
       "      <td>16.0%</td>\n",
       "      <td>64.0%</td>\n",
       "      <td>14.4%</td>\n",
       "    </tr>\n",
       "    <tr>\n",
       "      <th>4-sessions-Federated-central-pre-training</th>\n",
       "      <td>70.5%</td>\n",
       "      <td>78.4%</td>\n",
       "      <td>91.6%</td>\n",
       "      <td>47.3%</td>\n",
       "      <td>91.3%</td>\n",
       "      <td>61.1%</td>\n",
       "      <td>72.7%</td>\n",
       "      <td>84.7%</td>\n",
       "      <td>70.2%</td>\n",
       "      <td>71.3%</td>\n",
       "      <td>76.1%</td>\n",
       "      <td>67.5%</td>\n",
       "      <td>75.0%</td>\n",
       "      <td>11.3%</td>\n",
       "      <td>73.6%</td>\n",
       "      <td>12.8%</td>\n",
       "    </tr>\n",
       "    <tr>\n",
       "      <th>5-sessions-Federated-federated-pre-training</th>\n",
       "      <td>70.3%</td>\n",
       "      <td>77.4%</td>\n",
       "      <td>88.6%</td>\n",
       "      <td>70.6%</td>\n",
       "      <td>91.0%</td>\n",
       "      <td>63.0%</td>\n",
       "      <td>67.5%</td>\n",
       "      <td>81.9%</td>\n",
       "      <td>72.6%</td>\n",
       "      <td>68.6%</td>\n",
       "      <td>84.6%</td>\n",
       "      <td>61.9%</td>\n",
       "      <td>76.0%</td>\n",
       "      <td>12.0%</td>\n",
       "      <td>74.8%</td>\n",
       "      <td>10.2%</td>\n",
       "    </tr>\n",
       "    <tr>\n",
       "      <th>6-sessions-Federated-no-pre-training-personalization</th>\n",
       "      <td>69.6%</td>\n",
       "      <td>69.4%</td>\n",
       "      <td>92.0%</td>\n",
       "      <td>50.1%</td>\n",
       "      <td>75.4%</td>\n",
       "      <td>58.2%</td>\n",
       "      <td>49.5%</td>\n",
       "      <td>67.4%</td>\n",
       "      <td>61.5%</td>\n",
       "      <td>70.4%</td>\n",
       "      <td>87.8%</td>\n",
       "      <td>65.2%</td>\n",
       "      <td>69.2%</td>\n",
       "      <td>17.8%</td>\n",
       "      <td>68.0%</td>\n",
       "      <td>14.6%</td>\n",
       "    </tr>\n",
       "    <tr>\n",
       "      <th>7-sessions-Federated-central-pre-training-personalization</th>\n",
       "      <td>82.3%</td>\n",
       "      <td>78.3%</td>\n",
       "      <td>87.7%</td>\n",
       "      <td>47.3%</td>\n",
       "      <td>91.6%</td>\n",
       "      <td>62.2%</td>\n",
       "      <td>78.6%</td>\n",
       "      <td>84.2%</td>\n",
       "      <td>67.3%</td>\n",
       "      <td>77.0%</td>\n",
       "      <td>90.1%</td>\n",
       "      <td>72.7%</td>\n",
       "      <td>76.7%</td>\n",
       "      <td>12.4%</td>\n",
       "      <td>76.6%</td>\n",
       "      <td>12.9%</td>\n",
       "    </tr>\n",
       "    <tr>\n",
       "      <th>8-sessions-Federated-federated-pre-training-personalization</th>\n",
       "      <td>80.9%</td>\n",
       "      <td>77.4%</td>\n",
       "      <td>88.4%</td>\n",
       "      <td>70.6%</td>\n",
       "      <td>91.6%</td>\n",
       "      <td>62.3%</td>\n",
       "      <td>62.7%</td>\n",
       "      <td>83.4%</td>\n",
       "      <td>67.9%</td>\n",
       "      <td>73.8%</td>\n",
       "      <td>90.2%</td>\n",
       "      <td>69.4%</td>\n",
       "      <td>76.3%</td>\n",
       "      <td>13.2%</td>\n",
       "      <td>76.5%</td>\n",
       "      <td>10.6%</td>\n",
       "    </tr>\n",
       "    <tr>\n",
       "      <th>9-sessions-Federated-no-pre-training-local-models</th>\n",
       "      <td>68.4%</td>\n",
       "      <td>69.4%</td>\n",
       "      <td>92.1%</td>\n",
       "      <td>50.1%</td>\n",
       "      <td>75.5%</td>\n",
       "      <td>57.5%</td>\n",
       "      <td>48.9%</td>\n",
       "      <td>65.9%</td>\n",
       "      <td>62.0%</td>\n",
       "      <td>70.3%</td>\n",
       "      <td>86.4%</td>\n",
       "      <td>65.1%</td>\n",
       "      <td>68.8%</td>\n",
       "      <td>17.8%</td>\n",
       "      <td>67.6%</td>\n",
       "      <td>14.6%</td>\n",
       "    </tr>\n",
       "    <tr>\n",
       "      <th>10-sessions-Federated-central-pre-training-local-models</th>\n",
       "      <td>82.9%</td>\n",
       "      <td>78.3%</td>\n",
       "      <td>86.3%</td>\n",
       "      <td>47.3%</td>\n",
       "      <td>92.3%</td>\n",
       "      <td>61.3%</td>\n",
       "      <td>66.1%</td>\n",
       "      <td>83.7%</td>\n",
       "      <td>68.1%</td>\n",
       "      <td>77.0%</td>\n",
       "      <td>90.0%</td>\n",
       "      <td>71.2%</td>\n",
       "      <td>75.6%</td>\n",
       "      <td>13.3%</td>\n",
       "      <td>75.4%</td>\n",
       "      <td>13.3%</td>\n",
       "    </tr>\n",
       "    <tr>\n",
       "      <th>11-sessions-Federated-federated-pre-training-local-models</th>\n",
       "      <td>81.3%</td>\n",
       "      <td>77.4%</td>\n",
       "      <td>88.2%</td>\n",
       "      <td>70.6%</td>\n",
       "      <td>91.5%</td>\n",
       "      <td>60.6%</td>\n",
       "      <td>58.2%</td>\n",
       "      <td>82.5%</td>\n",
       "      <td>67.8%</td>\n",
       "      <td>73.8%</td>\n",
       "      <td>89.7%</td>\n",
       "      <td>68.4%</td>\n",
       "      <td>75.5%</td>\n",
       "      <td>13.6%</td>\n",
       "      <td>75.8%</td>\n",
       "      <td>11.3%</td>\n",
       "    </tr>\n",
       "  </tbody>\n",
       "</table>\n",
       "</div>"
      ],
      "text/plain": [
       "                                                      43    48    52    59  \\\n",
       "Experiment                                                                   \n",
       "0-sessions-Baseline-central-pre-training           70.4% 78.5% 92.2% 47.4%   \n",
       "0-sessions-Baseline-federated-pre-training         66.5% 74.0% 85.7% 70.6%   \n",
       "1-sessions-Centralized-no-pre-training             72.3% 69.2% 83.9% 50.1%   \n",
       "2-sessions-Centralized-pre-training                80.1% 78.3% 81.9% 47.3%   \n",
       "3-sessions-Federated-no-pre-training               70.7% 69.2% 86.5% 50.1%   \n",
       "4-sessions-Federated-central-pre-training          70.5% 78.4% 91.6% 47.3%   \n",
       "5-sessions-Federated-federated-pre-training        70.3% 77.4% 88.6% 70.6%   \n",
       "6-sessions-Federated-no-pre-training-personaliz... 69.6% 69.4% 92.0% 50.1%   \n",
       "7-sessions-Federated-central-pre-training-perso... 82.3% 78.3% 87.7% 47.3%   \n",
       "8-sessions-Federated-federated-pre-training-per... 80.9% 77.4% 88.4% 70.6%   \n",
       "9-sessions-Federated-no-pre-training-local-models  68.4% 69.4% 92.1% 50.1%   \n",
       "10-sessions-Federated-central-pre-training-loca... 82.9% 78.3% 86.3% 47.3%   \n",
       "11-sessions-Federated-federated-pre-training-lo... 81.3% 77.4% 88.2% 70.6%   \n",
       "\n",
       "                                                      64    80    92    96  \\\n",
       "Experiment                                                                   \n",
       "0-sessions-Baseline-central-pre-training           90.7% 56.6% 68.1% 78.6%   \n",
       "0-sessions-Baseline-federated-pre-training         89.8% 57.1% 63.0% 80.2%   \n",
       "1-sessions-Centralized-no-pre-training             75.4% 57.6% 49.5% 83.2%   \n",
       "2-sessions-Centralized-pre-training                90.5% 62.5% 75.1% 84.8%   \n",
       "3-sessions-Federated-no-pre-training               72.7% 55.9% 56.6% 67.5%   \n",
       "4-sessions-Federated-central-pre-training          91.3% 61.1% 72.7% 84.7%   \n",
       "5-sessions-Federated-federated-pre-training        91.0% 63.0% 67.5% 81.9%   \n",
       "6-sessions-Federated-no-pre-training-personaliz... 75.4% 58.2% 49.5% 67.4%   \n",
       "7-sessions-Federated-central-pre-training-perso... 91.6% 62.2% 78.6% 84.2%   \n",
       "8-sessions-Federated-federated-pre-training-per... 91.6% 62.3% 62.7% 83.4%   \n",
       "9-sessions-Federated-no-pre-training-local-models  75.5% 57.5% 48.9% 65.9%   \n",
       "10-sessions-Federated-central-pre-training-loca... 92.3% 61.3% 66.1% 83.7%   \n",
       "11-sessions-Federated-federated-pre-training-lo... 91.5% 60.6% 58.2% 82.5%   \n",
       "\n",
       "                                                     107   109   115   120  \\\n",
       "Experiment                                                                   \n",
       "0-sessions-Baseline-central-pre-training           64.2% 76.2% 69.1% 72.3%   \n",
       "0-sessions-Baseline-federated-pre-training         65.7% 73.7% 89.7% 72.3%   \n",
       "1-sessions-Centralized-no-pre-training             60.1% 70.4% 86.0% 64.0%   \n",
       "2-sessions-Centralized-pre-training                67.7% 77.0% 87.8% 66.2%   \n",
       "3-sessions-Federated-no-pre-training               65.3% 48.1% 76.7% 48.8%   \n",
       "4-sessions-Federated-central-pre-training          70.2% 71.3% 76.1% 67.5%   \n",
       "5-sessions-Federated-federated-pre-training        72.6% 68.6% 84.6% 61.9%   \n",
       "6-sessions-Federated-no-pre-training-personaliz... 61.5% 70.4% 87.8% 65.2%   \n",
       "7-sessions-Federated-central-pre-training-perso... 67.3% 77.0% 90.1% 72.7%   \n",
       "8-sessions-Federated-federated-pre-training-per... 67.9% 73.8% 90.2% 69.4%   \n",
       "9-sessions-Federated-no-pre-training-local-models  62.0% 70.3% 86.4% 65.1%   \n",
       "10-sessions-Federated-central-pre-training-loca... 68.1% 77.0% 90.0% 71.2%   \n",
       "11-sessions-Federated-federated-pre-training-lo... 67.8% 73.8% 89.7% 68.4%   \n",
       "\n",
       "                                                    Weighted Mean  \\\n",
       "Experiment                                                          \n",
       "0-sessions-Baseline-central-pre-training                    72.5%   \n",
       "0-sessions-Baseline-federated-pre-training                  73.8%   \n",
       "1-sessions-Centralized-no-pre-training                      69.2%   \n",
       "2-sessions-Centralized-pre-training                         75.3%   \n",
       "3-sessions-Federated-no-pre-training                        65.8%   \n",
       "4-sessions-Federated-central-pre-training                   75.0%   \n",
       "5-sessions-Federated-federated-pre-training                 76.0%   \n",
       "6-sessions-Federated-no-pre-training-personaliz...          69.2%   \n",
       "7-sessions-Federated-central-pre-training-perso...          76.7%   \n",
       "8-sessions-Federated-federated-pre-training-per...          76.3%   \n",
       "9-sessions-Federated-no-pre-training-local-models           68.8%   \n",
       "10-sessions-Federated-central-pre-training-loca...          75.6%   \n",
       "11-sessions-Federated-federated-pre-training-lo...          75.5%   \n",
       "\n",
       "                                                    Weighted SD  Mean    SD  \n",
       "Experiment                                                                   \n",
       "0-sessions-Baseline-central-pre-training                  11.9% 72.0% 13.0%  \n",
       "0-sessions-Baseline-federated-pre-training                11.8% 74.0% 10.8%  \n",
       "1-sessions-Centralized-no-pre-training                    16.8% 68.5% 14.4%  \n",
       "2-sessions-Centralized-pre-training                       13.2% 74.9% 12.5%  \n",
       "3-sessions-Federated-no-pre-training                      16.0% 64.0% 14.4%  \n",
       "4-sessions-Federated-central-pre-training                 11.3% 73.6% 12.8%  \n",
       "5-sessions-Federated-federated-pre-training               12.0% 74.8% 10.2%  \n",
       "6-sessions-Federated-no-pre-training-personaliz...        17.8% 68.0% 14.6%  \n",
       "7-sessions-Federated-central-pre-training-perso...        12.4% 76.6% 12.9%  \n",
       "8-sessions-Federated-federated-pre-training-per...        13.2% 76.5% 10.6%  \n",
       "9-sessions-Federated-no-pre-training-local-models         17.8% 67.6% 14.6%  \n",
       "10-sessions-Federated-central-pre-training-loca...        13.3% 75.4% 13.3%  \n",
       "11-sessions-Federated-federated-pre-training-lo...        13.6% 75.8% 11.3%  "
      ]
     },
     "execution_count": 9,
     "metadata": {},
     "output_type": "execute_result"
    }
   ],
   "source": [
    "average_results_old['accuracy']"
   ]
  },
  {
   "cell_type": "code",
   "execution_count": 26,
   "metadata": {},
   "outputs": [],
   "source": [
    "idx = ['0-sessions-Baseline-central-pre-training',\n",
    "#        '0-sessions-Baseline-federated-pre-training',\n",
    "#        '1-sessions-Centralized-no-pre-training',\n",
    "       '2-sessions-Centralized-pre-training',\n",
    "#        '3-sessions-Federated-no-pre-training',\n",
    "       '4-sessions-Federated-central-pre-training',\n",
    "#        '5-sessions-Federated-federated-pre-training',\n",
    "#        '6-sessions-Federated-no-pre-training-personalization',\n",
    "       '7-sessions-Federated-central-pre-training-personalization',\n",
    "#        '8-sessions-Federated-federated-pre-training-personalization',\n",
    "#        '9-sessions-Federated-no-pre-training-local-models',\n",
    "       '10-sessions-Federated-central-pre-training-local-models',\n",
    "#        '11-sessions-Federated-federated-pre-training-local-models'\n",
    "]"
   ]
  },
  {
   "cell_type": "code",
   "execution_count": 33,
   "metadata": {},
   "outputs": [
    {
     "data": {
      "text/html": [
       "<div>\n",
       "<style scoped>\n",
       "    .dataframe tbody tr th:only-of-type {\n",
       "        vertical-align: middle;\n",
       "    }\n",
       "\n",
       "    .dataframe tbody tr th {\n",
       "        vertical-align: top;\n",
       "    }\n",
       "\n",
       "    .dataframe thead th {\n",
       "        text-align: right;\n",
       "    }\n",
       "</style>\n",
       "<table border=\"1\" class=\"dataframe\">\n",
       "  <thead>\n",
       "    <tr style=\"text-align: right;\">\n",
       "      <th></th>\n",
       "      <th>Weighted Mean</th>\n",
       "      <th>Weighted Mean</th>\n",
       "    </tr>\n",
       "    <tr>\n",
       "      <th>Experiment</th>\n",
       "      <th></th>\n",
       "      <th></th>\n",
       "    </tr>\n",
       "  </thead>\n",
       "  <tbody>\n",
       "    <tr>\n",
       "      <th>0-sessions-Baseline-central-pre-training</th>\n",
       "      <td>71.8%</td>\n",
       "      <td>71.8%</td>\n",
       "    </tr>\n",
       "    <tr>\n",
       "      <th>2-sessions-Centralized-pre-training</th>\n",
       "      <td>75.1%</td>\n",
       "      <td>75.1%</td>\n",
       "    </tr>\n",
       "    <tr>\n",
       "      <th>4-sessions-Federated-central-pre-training</th>\n",
       "      <td>74.6%</td>\n",
       "      <td>69.9%</td>\n",
       "    </tr>\n",
       "    <tr>\n",
       "      <th>7-sessions-Federated-central-pre-training-personalization</th>\n",
       "      <td>76.9%</td>\n",
       "      <td>68.4%</td>\n",
       "    </tr>\n",
       "    <tr>\n",
       "      <th>10-sessions-Federated-central-pre-training-local-models</th>\n",
       "      <td>76.1%</td>\n",
       "      <td>71.3%</td>\n",
       "    </tr>\n",
       "  </tbody>\n",
       "</table>\n",
       "</div>"
      ],
      "text/plain": [
       "                                                    Weighted Mean  \\\n",
       "Experiment                                                          \n",
       "0-sessions-Baseline-central-pre-training                    71.8%   \n",
       "2-sessions-Centralized-pre-training                         75.1%   \n",
       "4-sessions-Federated-central-pre-training                   74.6%   \n",
       "7-sessions-Federated-central-pre-training-perso...          76.9%   \n",
       "10-sessions-Federated-central-pre-training-loca...          76.1%   \n",
       "\n",
       "                                                    Weighted Mean  \n",
       "Experiment                                                         \n",
       "0-sessions-Baseline-central-pre-training                    71.8%  \n",
       "2-sessions-Centralized-pre-training                         75.1%  \n",
       "4-sessions-Federated-central-pre-training                   69.9%  \n",
       "7-sessions-Federated-central-pre-training-perso...          68.4%  \n",
       "10-sessions-Federated-central-pre-training-loca...          71.3%  "
      ]
     },
     "execution_count": 33,
     "metadata": {},
     "output_type": "execute_result"
    }
   ],
   "source": [
    "EXPERIMENT = os.path.join(os.path.join(os.path.dirname(RESULTS), '_old'), '19 - Seed 129')\n",
    "results['Seed exp1'] = rE.results_table(EXPERIMENT, 'accuracy', 'person', subjects, pivot)\n",
    "EXPERIMENT = os.path.join(RESULTS, '129 - Seed 129')\n",
    "results['Seed exp2'] = rE.results_table(EXPERIMENT, 'accuracy', 'person', subjects, pivot)\n",
    "pd.concat((pd.DataFrame(results['Seed exp1']['Weighted Mean']), pd.DataFrame(results['Seed exp2']['Weighted Mean'])), axis=1).T[idx].T"
   ]
  },
  {
   "cell_type": "code",
   "execution_count": 19,
   "metadata": {},
   "outputs": [
    {
     "data": {
      "text/plain": [
       "Experiment\n",
       "0-sessions-Baseline-central-pre-training                      73.5%\n",
       "0-sessions-Baseline-federated-pre-training                    74.3%\n",
       "1-sessions-Centralized-no-pre-training                        69.0%\n",
       "2-sessions-Centralized-pre-training                           75.8%\n",
       "3-sessions-Federated-no-pre-training                          64.7%\n",
       "4-sessions-Federated-central-pre-training                     75.0%\n",
       "5-sessions-Federated-federated-pre-training                   75.4%\n",
       "6-sessions-Federated-no-pre-training-personalization          70.3%\n",
       "7-sessions-Federated-central-pre-training-personalization     75.7%\n",
       "8-sessions-Federated-federated-pre-training-personalization   76.0%\n",
       "9-sessions-Federated-no-pre-training-local-models             70.1%\n",
       "10-sessions-Federated-central-pre-training-local-models       74.8%\n",
       "11-sessions-Federated-federated-pre-training-local-models     75.3%\n",
       "Name: Weighted Mean, dtype: float64"
      ]
     },
     "execution_count": 19,
     "metadata": {},
     "output_type": "execute_result"
    }
   ],
   "source": [
    "EXPERIMENT = os.path.join(os.path.join(os.path.dirname(RESULTS), '_old'), '14 - Seed 124')\n",
    "results['Seed exp2'] = rE.results_table(EXPERIMENT, 'accuracy', 'person', subjects, pivot)\n",
    "results['Seed exp2']['Weighted Mean']"
   ]
  },
  {
   "cell_type": "markdown",
   "metadata": {},
   "source": [
    "## Pain Pivots"
   ]
  },
  {
   "cell_type": "markdown",
   "metadata": {},
   "source": [
    "### By Person"
   ]
  },
  {
   "cell_type": "code",
   "execution_count": null,
   "metadata": {},
   "outputs": [],
   "source": [
    "dL.create_pivot(os.path.join(DATA, 'group_2'), 'Session', 'Person', 'Session')"
   ]
  },
  {
   "cell_type": "markdown",
   "metadata": {},
   "source": [
    "### By Session"
   ]
  },
  {
   "cell_type": "code",
   "execution_count": null,
   "metadata": {},
   "outputs": [],
   "source": [
    "dL.create_pivot(os.path.join(DATA, 'group_2'), 'Person', 'Session', 'Person')"
   ]
  },
  {
   "cell_type": "code",
   "execution_count": null,
   "metadata": {},
   "outputs": [],
   "source": [
    "# Create Dataframe\n",
    "df = pd.DataFrame(dL.get_labels(dL.get_image_paths(os.path.join(DATA, 'group_2'))), columns=['Person', 'Session', 'Culture', 'Frame', 'Pain', 'Trans_1', 'Trans2'])\n",
    "df[['Person', 'Session', 'Culture', 'Frame', 'Pain', ]] = df[['Person', 'Session', 'Culture', 'Frame', 'Pain', ]].astype(int)\n",
    "\n",
    "# Get Frequencey values\n",
    "sessions = sorted(df['Session'].unique())\n",
    "share_1 = {}\n",
    "for session in sessions:\n",
    "    key, val = np.unique(df[df['Session'] == session]['Pain'], return_counts=True)\n",
    "    if 1 in key:\n",
    "        share_1[session] = val[1] / sum(val[1:])"
   ]
  },
  {
   "cell_type": "code",
   "execution_count": null,
   "metadata": {},
   "outputs": [],
   "source": [
    "np.unique(df[(df['Person'] == 80) & (df['Session'] == 5)]['Pain'], return_counts=True)"
   ]
  },
  {
   "cell_type": "code",
   "execution_count": null,
   "metadata": {},
   "outputs": [],
   "source": []
  }
 ],
 "metadata": {
  "kernelspec": {
   "display_name": "FederatedLearning",
   "language": "python",
   "name": "federatedlearning"
  },
  "language_info": {
   "codemirror_mode": {
    "name": "ipython",
    "version": 3
   },
   "file_extension": ".py",
   "mimetype": "text/x-python",
   "name": "python",
   "nbconvert_exporter": "python",
   "pygments_lexer": "ipython3",
   "version": "3.7.2"
  }
 },
 "nbformat": 4,
 "nbformat_minor": 2
}
