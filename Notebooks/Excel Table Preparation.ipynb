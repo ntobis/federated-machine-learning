{
 "cells": [
  {
   "cell_type": "code",
   "execution_count": 1,
   "metadata": {},
   "outputs": [],
   "source": [
    "import os, sys\n",
    "import pandas as pd\n",
    "import numpy as np\n",
    "from functools import reduce\n",
    "\n",
    "module_path = os.path.abspath(os.path.join('..'))\n",
    "if module_path not in sys.path:\n",
    "    sys.path.append(module_path)\n",
    "\n",
    "from Scripts import Data_Loader_Functions as dL\n",
    "from Scripts import Results_Evaluation as rE\n",
    "RESULTS = os.path.join(module_path, 'Results', 'Thesis')\n",
    "DATA = os.path.join(module_path, 'Data', 'Augmented Data', 'Flexible Augmentation')"
   ]
  },
  {
   "cell_type": "markdown",
   "metadata": {},
   "source": [
    "## Load relevant variables"
   ]
  },
  {
   "cell_type": "code",
   "execution_count": 2,
   "metadata": {},
   "outputs": [],
   "source": [
    "pd.options.display.float_format = '{:,.1%}'.format"
   ]
  },
  {
   "cell_type": "code",
   "execution_count": 3,
   "metadata": {},
   "outputs": [],
   "source": [
    "pivot = dL.create_pivot(os.path.join(DATA, 'group_2'), 'Session', 'Person', 'Session')\n",
    "subjects = dL.create_pain_df(os.path.join(DATA, 'group_2'))['Person'].unique()"
   ]
  },
  {
   "cell_type": "code",
   "execution_count": 4,
   "metadata": {},
   "outputs": [],
   "source": [
    "results = {}"
   ]
  },
  {
   "cell_type": "markdown",
   "metadata": {},
   "source": [
    "## Metric & Type"
   ]
  },
  {
   "cell_type": "code",
   "execution_count": null,
   "metadata": {},
   "outputs": [],
   "source": [
    "metric = 'accuracy'\n",
    "view_by = 'person'"
   ]
  },
  {
   "cell_type": "markdown",
   "metadata": {},
   "source": [
    "## Base"
   ]
  },
  {
   "cell_type": "code",
   "execution_count": null,
   "metadata": {},
   "outputs": [],
   "source": [
    "EXPERIMENT = os.path.join(RESULTS, '1 - CNN - Base')\n",
    "results['Base'] = rE.results_table(EXPERIMENT, metric, view_by, subjects, pivot)\n",
    "results['Base']"
   ]
  },
  {
   "cell_type": "markdown",
   "metadata": {},
   "source": [
    "## Exclude Pain Level \"0\" from training"
   ]
  },
  {
   "cell_type": "code",
   "execution_count": null,
   "metadata": {},
   "outputs": [],
   "source": [
    "EXPERIMENT = os.path.join(RESULTS, '2 - CNN - Pain Gap')\n",
    "results['Pain Level 0'] = rE.results_table(EXPERIMENT, metric, view_by, subjects, pivot)\n",
    "results['Pain Level 0']"
   ]
  },
  {
   "cell_type": "markdown",
   "metadata": {},
   "source": [
    "## Use RMSProp as an optimizer instead of SGD"
   ]
  },
  {
   "cell_type": "code",
   "execution_count": null,
   "metadata": {},
   "outputs": [],
   "source": [
    "EXPERIMENT = os.path.join(RESULTS, '3 - CNN - RMS Prop')\n",
    "results['RMSProp'] = rE.results_table(EXPERIMENT, metric, view_by, subjects, pivot)\n",
    "results['RMSProp']"
   ]
  },
  {
   "cell_type": "markdown",
   "metadata": {},
   "source": [
    "## ResNet Base"
   ]
  },
  {
   "cell_type": "code",
   "execution_count": null,
   "metadata": {},
   "outputs": [],
   "source": [
    "EXPERIMENT = os.path.join(RESULTS, '4 - ResNet - Base')\n",
    "results['ResNet'] = rE.results_table(EXPERIMENT, metric, view_by, subjects, pivot)\n",
    "results['ResNet']"
   ]
  },
  {
   "cell_type": "markdown",
   "metadata": {},
   "source": [
    "## CNN - No Max Pooling After Last Conv2D Layer"
   ]
  },
  {
   "cell_type": "code",
   "execution_count": null,
   "metadata": {},
   "outputs": [],
   "source": [
    "EXPERIMENT = os.path.join(RESULTS, '5 - CNN - No MaxPool after Conv2D')\n",
    "results['No Global Max Pooling'] = rE.results_table(EXPERIMENT, metric, view_by, subjects, pivot)\n",
    "results['No Global Max Pooling']"
   ]
  },
  {
   "cell_type": "markdown",
   "metadata": {},
   "source": [
    "## Convolution + Activation ReLU"
   ]
  },
  {
   "cell_type": "code",
   "execution_count": null,
   "metadata": {},
   "outputs": [],
   "source": [
    "EXPERIMENT = os.path.join(RESULTS, '6 - Activation')\n",
    "results['ReLU'] = rE.results_table(EXPERIMENT, metric, view_by, subjects, pivot)\n",
    "results['ReLU']"
   ]
  },
  {
   "cell_type": "markdown",
   "metadata": {},
   "source": [
    "## Convolution + Batch Norm"
   ]
  },
  {
   "cell_type": "code",
   "execution_count": null,
   "metadata": {},
   "outputs": [],
   "source": [
    "EXPERIMENT = os.path.join(RESULTS, '7 - Batch Norm')\n",
    "results['Batch Norm'] = rE.results_table(EXPERIMENT, metric, view_by, subjects, pivot)\n",
    "results['Batch Norm']"
   ]
  },
  {
   "cell_type": "markdown",
   "metadata": {},
   "source": [
    "## Convolution + Batch Norm + ReLU"
   ]
  },
  {
   "cell_type": "code",
   "execution_count": null,
   "metadata": {},
   "outputs": [],
   "source": [
    "EXPERIMENT = os.path.join(RESULTS, '8 - Activation and Batch Norm')\n",
    "results['ReLU + Batch Norm'] = rE.results_table(EXPERIMENT, metric, view_by, subjects, pivot)\n",
    "results['ReLU + Batch Norm']"
   ]
  },
  {
   "cell_type": "markdown",
   "metadata": {},
   "source": [
    "## Convolution + Batch Norm + ReLU"
   ]
  },
  {
   "cell_type": "code",
   "execution_count": null,
   "metadata": {},
   "outputs": [],
   "source": [
    "EXPERIMENT = os.path.join(RESULTS, '9 - Activation, Batch Norm, No Global MaxPool')\n",
    "results['ReLU + Batch Norm + No Glob Max Pool'] = rE.results_table(EXPERIMENT, metric, view_by, subjects, pivot)\n",
    "results['ReLU + Batch Norm + No Glob Max Pool']"
   ]
  },
  {
   "cell_type": "markdown",
   "metadata": {},
   "source": [
    "## Convolution + Batch Norm + ReLU"
   ]
  },
  {
   "cell_type": "code",
   "execution_count": null,
   "metadata": {},
   "outputs": [],
   "source": [
    "EXPERIMENT = os.path.join(RESULTS, '10 - Replace Stride with Pooling')\n",
    "results['Replace Stride with Pooling'] = rE.results_table(EXPERIMENT, metric, view_by, subjects, pivot)\n",
    "results['Replace Stride with Pooling']"
   ]
  },
  {
   "cell_type": "markdown",
   "metadata": {},
   "source": [
    "## All Modifications"
   ]
  },
  {
   "cell_type": "code",
   "execution_count": null,
   "metadata": {},
   "outputs": [],
   "source": [
    "EXPERIMENT = os.path.join(RESULTS, '11 - All Modifications')\n",
    "results['All Modifications'] = rE.results_table(EXPERIMENT, metric, view_by, subjects, pivot)\n",
    "results['All Modifications']"
   ]
  },
  {
   "cell_type": "markdown",
   "metadata": {},
   "source": [
    "## Personalization"
   ]
  },
  {
   "cell_type": "code",
   "execution_count": null,
   "metadata": {},
   "outputs": [],
   "source": [
    "EXPERIMENT = os.path.join(RESULTS, '12 - Personalization, Same Padding, Max Pool, Activation, Batch Norm')\n",
    "results['Same Padding'] = rE.results_table(EXPERIMENT, metric, view_by, subjects, pivot)\n",
    "results['Same Padding']"
   ]
  },
  {
   "cell_type": "markdown",
   "metadata": {},
   "source": [
    "## Joint Results - All Experiments"
   ]
  },
  {
   "cell_type": "code",
   "execution_count": null,
   "metadata": {},
   "outputs": [],
   "source": [
    "result_df = pd.DataFrame()\n",
    "for key, df in results.items():\n",
    "    result_df[key] = df['Weighted Mean']\n",
    "result_df"
   ]
  },
  {
   "cell_type": "markdown",
   "metadata": {},
   "source": [
    "# SEEDS"
   ]
  },
  {
   "cell_type": "markdown",
   "metadata": {},
   "source": [
    "## Seed 123"
   ]
  },
  {
   "cell_type": "code",
   "execution_count": null,
   "metadata": {},
   "outputs": [],
   "source": [
    "EXPERIMENT = os.path.join(RESULTS, '13 - Seed 123')\n",
    "results['Seed 123'] = rE.results_table(EXPERIMENT, metric, view_by, subjects, pivot)\n",
    "results['Seed 123']"
   ]
  },
  {
   "cell_type": "markdown",
   "metadata": {},
   "source": [
    "## Seed 124"
   ]
  },
  {
   "cell_type": "code",
   "execution_count": null,
   "metadata": {},
   "outputs": [],
   "source": [
    "EXPERIMENT = os.path.join(RESULTS, '14 - Seed 124')\n",
    "results['Seed 124'] = rE.results_table(EXPERIMENT, metric, view_by, subjects, pivot)\n",
    "results['Seed 124']"
   ]
  },
  {
   "cell_type": "markdown",
   "metadata": {},
   "source": [
    "## Seed 125"
   ]
  },
  {
   "cell_type": "code",
   "execution_count": null,
   "metadata": {},
   "outputs": [],
   "source": [
    "EXPERIMENT = os.path.join(RESULTS, '15 - Seed 125')\n",
    "results['Seed 125'] = rE.results_table(EXPERIMENT, metric, view_by, subjects, pivot)\n",
    "results['Seed 125']"
   ]
  },
  {
   "cell_type": "markdown",
   "metadata": {},
   "source": [
    "## Seed 131"
   ]
  },
  {
   "cell_type": "code",
   "execution_count": null,
   "metadata": {},
   "outputs": [],
   "source": [
    "EXPERIMENT = os.path.join(RESULTS, '131 - Seed 131')\n",
    "results['Seed 131'] = rE.results_table(EXPERIMENT, metric, view_by, subjects, pivot)\n",
    "results['Seed 131']"
   ]
  },
  {
   "cell_type": "code",
   "execution_count": null,
   "metadata": {},
   "outputs": [],
   "source": [
    "EXPERIMENT = os.path.join(RESULTS, '132 - Seed 132')\n",
    "results['Seed 132'] = rE.results_table(EXPERIMENT, metric, view_by, subjects, pivot)\n",
    "results['Seed 132']"
   ]
  },
  {
   "cell_type": "markdown",
   "metadata": {},
   "source": [
    "# Average Seeds"
   ]
  },
  {
   "cell_type": "code",
   "execution_count": 34,
   "metadata": {},
   "outputs": [],
   "source": [
    "average_results = rE.compute_average_metrics('person', subjects, pivot, RESULTS)"
   ]
  },
  {
   "cell_type": "markdown",
   "metadata": {},
   "source": [
    "## Pain Pivots"
   ]
  },
  {
   "cell_type": "markdown",
   "metadata": {},
   "source": [
    "### By Person"
   ]
  },
  {
   "cell_type": "code",
   "execution_count": null,
   "metadata": {},
   "outputs": [],
   "source": [
    "dL.create_pivot(os.path.join(DATA, 'group_2'), 'Session', 'Person', 'Session')"
   ]
  },
  {
   "cell_type": "markdown",
   "metadata": {},
   "source": [
    "### By Session"
   ]
  },
  {
   "cell_type": "code",
   "execution_count": null,
   "metadata": {},
   "outputs": [],
   "source": [
    "dL.create_pivot(os.path.join(DATA, 'group_2'), 'Person', 'Session', 'Person')"
   ]
  },
  {
   "cell_type": "code",
   "execution_count": null,
   "metadata": {},
   "outputs": [],
   "source": [
    "# Create Dataframe\n",
    "df = pd.DataFrame(dL.get_labels(dL.get_image_paths(os.path.join(DATA, 'group_2'))), columns=['Person', 'Session', 'Culture', 'Frame', 'Pain', 'Trans_1', 'Trans2'])\n",
    "df[['Person', 'Session', 'Culture', 'Frame', 'Pain', ]] = df[['Person', 'Session', 'Culture', 'Frame', 'Pain', ]].astype(int)\n",
    "\n",
    "# Get Frequencey values\n",
    "sessions = sorted(df['Session'].unique())\n",
    "share_1 = {}\n",
    "for session in sessions:\n",
    "    key, val = np.unique(df[df['Session'] == session]['Pain'], return_counts=True)\n",
    "    if 1 in key:\n",
    "        share_1[session] = val[1] / sum(val[1:])"
   ]
  },
  {
   "cell_type": "code",
   "execution_count": null,
   "metadata": {},
   "outputs": [],
   "source": [
    "np.unique(df[(df['Person'] == 80) & (df['Session'] == 5)]['Pain'], return_counts=True)"
   ]
  },
  {
   "cell_type": "code",
   "execution_count": null,
   "metadata": {},
   "outputs": [],
   "source": []
  }
 ],
 "metadata": {
  "kernelspec": {
   "display_name": "FederatedLearning",
   "language": "python",
   "name": "federatedlearning"
  },
  "language_info": {
   "codemirror_mode": {
    "name": "ipython",
    "version": 3
   },
   "file_extension": ".py",
   "mimetype": "text/x-python",
   "name": "python",
   "nbconvert_exporter": "python",
   "pygments_lexer": "ipython3",
   "version": "3.7.2"
  }
 },
 "nbformat": 4,
 "nbformat_minor": 2
}
