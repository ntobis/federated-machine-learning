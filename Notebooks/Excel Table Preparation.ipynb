{
 "cells": [
  {
   "cell_type": "code",
   "execution_count": 1,
   "metadata": {},
   "outputs": [],
   "source": [
    "import os, sys\n",
    "import pandas as pd\n",
    "import numpy as np\n",
    "from functools import reduce\n",
    "\n",
    "module_path = os.path.abspath(os.path.join('..'))\n",
    "if module_path not in sys.path:\n",
    "    sys.path.append(module_path)\n",
    "\n",
    "from Scripts import Data_Loader_Functions as dL\n",
    "from Scripts import Results_Evaluation as rE\n",
    "RESULTS = os.path.join(module_path, 'Results', 'Thesis')\n",
    "DATA = os.path.join(module_path, 'Data', 'Augmented Data', 'Flexible Augmentation')"
   ]
  },
  {
   "cell_type": "markdown",
   "metadata": {},
   "source": [
    "## Load relevant variables"
   ]
  },
  {
   "cell_type": "code",
   "execution_count": 55,
   "metadata": {},
   "outputs": [],
   "source": [
    "pd.options.display.float_format = '{:,.1%}'.format"
   ]
  },
  {
   "cell_type": "code",
   "execution_count": 3,
   "metadata": {},
   "outputs": [],
   "source": [
    "pivot = dL.create_pivot(os.path.join(DATA, 'group_2'), 'Session', 'Person', 'Session')\n",
    "subjects = dL.create_pain_df(os.path.join(DATA, 'group_2'))['Person'].unique()"
   ]
  },
  {
   "cell_type": "code",
   "execution_count": 4,
   "metadata": {},
   "outputs": [],
   "source": [
    "results = {}"
   ]
  },
  {
   "cell_type": "markdown",
   "metadata": {},
   "source": [
    "## Metric & Type"
   ]
  },
  {
   "cell_type": "code",
   "execution_count": null,
   "metadata": {},
   "outputs": [],
   "source": [
    "metric = 'accuracy'\n",
    "view_by = 'person'"
   ]
  },
  {
   "cell_type": "markdown",
   "metadata": {},
   "source": [
    "## Base"
   ]
  },
  {
   "cell_type": "code",
   "execution_count": null,
   "metadata": {},
   "outputs": [],
   "source": [
    "EXPERIMENT = os.path.join(RESULTS, '1 - CNN - Base')\n",
    "results['Base'] = rE.results_table(EXPERIMENT, metric, view_by, subjects, pivot)\n",
    "results['Base']"
   ]
  },
  {
   "cell_type": "markdown",
   "metadata": {},
   "source": [
    "## Exclude Pain Level \"0\" from training"
   ]
  },
  {
   "cell_type": "code",
   "execution_count": null,
   "metadata": {},
   "outputs": [],
   "source": [
    "EXPERIMENT = os.path.join(RESULTS, '2 - CNN - Pain Gap')\n",
    "results['Pain Level 0'] = rE.results_table(EXPERIMENT, metric, view_by, subjects, pivot)\n",
    "results['Pain Level 0']"
   ]
  },
  {
   "cell_type": "markdown",
   "metadata": {},
   "source": [
    "## Use RMSProp as an optimizer instead of SGD"
   ]
  },
  {
   "cell_type": "code",
   "execution_count": null,
   "metadata": {},
   "outputs": [],
   "source": [
    "EXPERIMENT = os.path.join(RESULTS, '3 - CNN - RMS Prop')\n",
    "results['RMSProp'] = rE.results_table(EXPERIMENT, metric, view_by, subjects, pivot)\n",
    "results['RMSProp']"
   ]
  },
  {
   "cell_type": "markdown",
   "metadata": {},
   "source": [
    "## ResNet Base"
   ]
  },
  {
   "cell_type": "code",
   "execution_count": null,
   "metadata": {},
   "outputs": [],
   "source": [
    "EXPERIMENT = os.path.join(RESULTS, '4 - ResNet - Base')\n",
    "results['ResNet'] = rE.results_table(EXPERIMENT, metric, view_by, subjects, pivot)\n",
    "results['ResNet']"
   ]
  },
  {
   "cell_type": "markdown",
   "metadata": {},
   "source": [
    "## CNN - No Max Pooling After Last Conv2D Layer"
   ]
  },
  {
   "cell_type": "code",
   "execution_count": null,
   "metadata": {},
   "outputs": [],
   "source": [
    "EXPERIMENT = os.path.join(RESULTS, '5 - CNN - No MaxPool after Conv2D')\n",
    "results['No Global Max Pooling'] = rE.results_table(EXPERIMENT, metric, view_by, subjects, pivot)\n",
    "results['No Global Max Pooling']"
   ]
  },
  {
   "cell_type": "markdown",
   "metadata": {},
   "source": [
    "## Convolution + Activation ReLU"
   ]
  },
  {
   "cell_type": "code",
   "execution_count": null,
   "metadata": {},
   "outputs": [],
   "source": [
    "EXPERIMENT = os.path.join(RESULTS, '6 - Activation')\n",
    "results['ReLU'] = rE.results_table(EXPERIMENT, metric, view_by, subjects, pivot)\n",
    "results['ReLU']"
   ]
  },
  {
   "cell_type": "markdown",
   "metadata": {},
   "source": [
    "## Convolution + Batch Norm"
   ]
  },
  {
   "cell_type": "code",
   "execution_count": null,
   "metadata": {},
   "outputs": [],
   "source": [
    "EXPERIMENT = os.path.join(RESULTS, '7 - Batch Norm')\n",
    "results['Batch Norm'] = rE.results_table(EXPERIMENT, metric, view_by, subjects, pivot)\n",
    "results['Batch Norm']"
   ]
  },
  {
   "cell_type": "markdown",
   "metadata": {},
   "source": [
    "## Convolution + Batch Norm + ReLU"
   ]
  },
  {
   "cell_type": "code",
   "execution_count": null,
   "metadata": {},
   "outputs": [],
   "source": [
    "EXPERIMENT = os.path.join(RESULTS, '8 - Activation and Batch Norm')\n",
    "results['ReLU + Batch Norm'] = rE.results_table(EXPERIMENT, metric, view_by, subjects, pivot)\n",
    "results['ReLU + Batch Norm']"
   ]
  },
  {
   "cell_type": "markdown",
   "metadata": {},
   "source": [
    "## Convolution + Batch Norm + ReLU"
   ]
  },
  {
   "cell_type": "code",
   "execution_count": null,
   "metadata": {},
   "outputs": [],
   "source": [
    "EXPERIMENT = os.path.join(RESULTS, '9 - Activation, Batch Norm, No Global MaxPool')\n",
    "results['ReLU + Batch Norm + No Glob Max Pool'] = rE.results_table(EXPERIMENT, metric, view_by, subjects, pivot)\n",
    "results['ReLU + Batch Norm + No Glob Max Pool']"
   ]
  },
  {
   "cell_type": "markdown",
   "metadata": {},
   "source": [
    "## Convolution + Batch Norm + ReLU"
   ]
  },
  {
   "cell_type": "code",
   "execution_count": null,
   "metadata": {},
   "outputs": [],
   "source": [
    "EXPERIMENT = os.path.join(RESULTS, '10 - Replace Stride with Pooling')\n",
    "results['Replace Stride with Pooling'] = rE.results_table(EXPERIMENT, metric, view_by, subjects, pivot)\n",
    "results['Replace Stride with Pooling']"
   ]
  },
  {
   "cell_type": "markdown",
   "metadata": {},
   "source": [
    "## All Modifications"
   ]
  },
  {
   "cell_type": "code",
   "execution_count": null,
   "metadata": {},
   "outputs": [],
   "source": [
    "EXPERIMENT = os.path.join(RESULTS, '11 - All Modifications')\n",
    "results['All Modifications'] = rE.results_table(EXPERIMENT, metric, view_by, subjects, pivot)\n",
    "results['All Modifications']"
   ]
  },
  {
   "cell_type": "markdown",
   "metadata": {},
   "source": [
    "## Personalization"
   ]
  },
  {
   "cell_type": "code",
   "execution_count": null,
   "metadata": {},
   "outputs": [],
   "source": [
    "EXPERIMENT = os.path.join(RESULTS, '12 - Personalization, Same Padding, Max Pool, Activation, Batch Norm')\n",
    "results['Same Padding'] = rE.results_table(EXPERIMENT, metric, view_by, subjects, pivot)\n",
    "results['Same Padding']"
   ]
  },
  {
   "cell_type": "markdown",
   "metadata": {},
   "source": [
    "## Joint Results - All Experiments"
   ]
  },
  {
   "cell_type": "code",
   "execution_count": null,
   "metadata": {},
   "outputs": [],
   "source": [
    "result_df = pd.DataFrame()\n",
    "for key, df in results.items():\n",
    "    result_df[key] = df['Weighted Mean']\n",
    "result_df"
   ]
  },
  {
   "cell_type": "markdown",
   "metadata": {},
   "source": [
    "# SEEDS"
   ]
  },
  {
   "cell_type": "markdown",
   "metadata": {},
   "source": [
    "## Seed 123"
   ]
  },
  {
   "cell_type": "code",
   "execution_count": null,
   "metadata": {},
   "outputs": [],
   "source": [
    "EXPERIMENT = os.path.join(RESULTS, '13 - Seed 123')\n",
    "results['Seed 123'] = rE.results_table(EXPERIMENT, metric, view_by, subjects, pivot)\n",
    "results['Seed 123']"
   ]
  },
  {
   "cell_type": "markdown",
   "metadata": {},
   "source": [
    "## Seed 124"
   ]
  },
  {
   "cell_type": "code",
   "execution_count": null,
   "metadata": {},
   "outputs": [],
   "source": [
    "EXPERIMENT = os.path.join(RESULTS, '14 - Seed 124')\n",
    "results['Seed 124'] = rE.results_table(EXPERIMENT, metric, view_by, subjects, pivot)\n",
    "results['Seed 124']"
   ]
  },
  {
   "cell_type": "markdown",
   "metadata": {},
   "source": [
    "## Seed 125"
   ]
  },
  {
   "cell_type": "code",
   "execution_count": null,
   "metadata": {},
   "outputs": [],
   "source": [
    "EXPERIMENT = os.path.join(RESULTS, '15 - Seed 125')\n",
    "results['Seed 125'] = rE.results_table(EXPERIMENT, metric, view_by, subjects, pivot)\n",
    "results['Seed 125']"
   ]
  },
  {
   "cell_type": "markdown",
   "metadata": {},
   "source": [
    "## Seed 131"
   ]
  },
  {
   "cell_type": "code",
   "execution_count": null,
   "metadata": {},
   "outputs": [],
   "source": [
    "EXPERIMENT = os.path.join(RESULTS, '131 - Seed 131')\n",
    "results['Seed 131'] = rE.results_table(EXPERIMENT, metric, view_by, subjects, pivot)\n",
    "results['Seed 131']"
   ]
  },
  {
   "cell_type": "code",
   "execution_count": null,
   "metadata": {},
   "outputs": [],
   "source": [
    "EXPERIMENT = os.path.join(RESULTS, '132 - Seed 132')\n",
    "results['Seed 132'] = rE.results_table(EXPERIMENT, metric, view_by, subjects, pivot)\n",
    "results['Seed 132']"
   ]
  },
  {
   "cell_type": "markdown",
   "metadata": {},
   "source": [
    "# Average Seeds"
   ]
  },
  {
   "cell_type": "code",
   "execution_count": 34,
   "metadata": {},
   "outputs": [],
   "source": [
    "average_results = rE.compute_average_metrics('person', subjects, pivot, RESULTS)"
   ]
  },
  {
   "cell_type": "code",
   "execution_count": 45,
   "metadata": {},
   "outputs": [],
   "source": [
    "pd.options.display.float_format = '{:,.1f}'.format"
   ]
  },
  {
   "cell_type": "code",
   "execution_count": 53,
   "metadata": {},
   "outputs": [],
   "source": [
    "EXPERIMENT = os.path.join(RESULTS, '132 - Seed 132')\n",
    "results['TP'] = rE.results_table(EXPERIMENT, 'true_positives', 'individual', subjects, pivot)\n",
    "results['FP'] = rE.results_table(EXPERIMENT, 'false_positives', 'individual', subjects, pivot)\n",
    "results['TN'] = rE.results_table(EXPERIMENT, 'true_negatives', 'individual', subjects, pivot)\n",
    "results['FN'] = rE.results_table(EXPERIMENT, 'false_negatives', 'individual', subjects, pivot)"
   ]
  },
  {
   "cell_type": "markdown",
   "metadata": {},
   "source": [
    "## Pain Pivots"
   ]
  },
  {
   "cell_type": "markdown",
   "metadata": {},
   "source": [
    "### By Person"
   ]
  },
  {
   "cell_type": "code",
   "execution_count": 58,
   "metadata": {},
   "outputs": [
    {
     "data": {
      "text/html": [
       "<div>\n",
       "<style scoped>\n",
       "    .dataframe tbody tr th:only-of-type {\n",
       "        vertical-align: middle;\n",
       "    }\n",
       "\n",
       "    .dataframe tbody tr th {\n",
       "        vertical-align: top;\n",
       "    }\n",
       "\n",
       "    .dataframe thead th {\n",
       "        text-align: right;\n",
       "    }\n",
       "</style>\n",
       "<table border=\"1\" class=\"dataframe\">\n",
       "  <thead>\n",
       "    <tr style=\"text-align: right;\">\n",
       "      <th>Person</th>\n",
       "      <th>43</th>\n",
       "      <th>48</th>\n",
       "      <th>52</th>\n",
       "      <th>59</th>\n",
       "      <th>64</th>\n",
       "      <th>80</th>\n",
       "      <th>92</th>\n",
       "      <th>96</th>\n",
       "      <th>107</th>\n",
       "      <th>109</th>\n",
       "      <th>115</th>\n",
       "      <th>120</th>\n",
       "      <th># of Persons</th>\n",
       "      <th>Pain</th>\n",
       "      <th>No Pain</th>\n",
       "      <th>Pain %</th>\n",
       "    </tr>\n",
       "    <tr>\n",
       "      <th>Session</th>\n",
       "      <th></th>\n",
       "      <th></th>\n",
       "      <th></th>\n",
       "      <th></th>\n",
       "      <th></th>\n",
       "      <th></th>\n",
       "      <th></th>\n",
       "      <th></th>\n",
       "      <th></th>\n",
       "      <th></th>\n",
       "      <th></th>\n",
       "      <th></th>\n",
       "      <th></th>\n",
       "      <th></th>\n",
       "      <th></th>\n",
       "      <th></th>\n",
       "    </tr>\n",
       "  </thead>\n",
       "  <tbody>\n",
       "    <tr>\n",
       "      <th>0</th>\n",
       "      <td>140</td>\n",
       "      <td></td>\n",
       "      <td>72</td>\n",
       "      <td></td>\n",
       "      <td>244</td>\n",
       "      <td>1052</td>\n",
       "      <td>464</td>\n",
       "      <td></td>\n",
       "      <td>32</td>\n",
       "      <td></td>\n",
       "      <td>60</td>\n",
       "      <td>116</td>\n",
       "      <td>12</td>\n",
       "      <td>2180</td>\n",
       "      <td>12424</td>\n",
       "      <td>15.0%</td>\n",
       "    </tr>\n",
       "    <tr>\n",
       "      <th>1</th>\n",
       "      <td></td>\n",
       "      <td>148</td>\n",
       "      <td></td>\n",
       "      <td>532</td>\n",
       "      <td>64</td>\n",
       "      <td>536</td>\n",
       "      <td>696</td>\n",
       "      <td></td>\n",
       "      <td></td>\n",
       "      <td>600</td>\n",
       "      <td></td>\n",
       "      <td></td>\n",
       "      <td>12</td>\n",
       "      <td>2576</td>\n",
       "      <td>8792</td>\n",
       "      <td>23.0%</td>\n",
       "    </tr>\n",
       "    <tr>\n",
       "      <th>2</th>\n",
       "      <td></td>\n",
       "      <td></td>\n",
       "      <td></td>\n",
       "      <td></td>\n",
       "      <td>64</td>\n",
       "      <td>484</td>\n",
       "      <td></td>\n",
       "      <td></td>\n",
       "      <td>848</td>\n",
       "      <td></td>\n",
       "      <td>220</td>\n",
       "      <td></td>\n",
       "      <td>11</td>\n",
       "      <td>1616</td>\n",
       "      <td>8756</td>\n",
       "      <td>16.0%</td>\n",
       "    </tr>\n",
       "    <tr>\n",
       "      <th>3</th>\n",
       "      <td></td>\n",
       "      <td></td>\n",
       "      <td></td>\n",
       "      <td></td>\n",
       "      <td></td>\n",
       "      <td>484</td>\n",
       "      <td></td>\n",
       "      <td></td>\n",
       "      <td>60</td>\n",
       "      <td></td>\n",
       "      <td>56</td>\n",
       "      <td>188</td>\n",
       "      <td>11</td>\n",
       "      <td>788</td>\n",
       "      <td>7696</td>\n",
       "      <td>9.0%</td>\n",
       "    </tr>\n",
       "    <tr>\n",
       "      <th>4</th>\n",
       "      <td>228</td>\n",
       "      <td></td>\n",
       "      <td></td>\n",
       "      <td></td>\n",
       "      <td>248</td>\n",
       "      <td>660</td>\n",
       "      <td>724</td>\n",
       "      <td>112</td>\n",
       "      <td>828</td>\n",
       "      <td></td>\n",
       "      <td>60</td>\n",
       "      <td></td>\n",
       "      <td>11</td>\n",
       "      <td>2860</td>\n",
       "      <td>7276</td>\n",
       "      <td>28.0%</td>\n",
       "    </tr>\n",
       "    <tr>\n",
       "      <th>5</th>\n",
       "      <td></td>\n",
       "      <td>188</td>\n",
       "      <td></td>\n",
       "      <td></td>\n",
       "      <td></td>\n",
       "      <td>792</td>\n",
       "      <td></td>\n",
       "      <td></td>\n",
       "      <td></td>\n",
       "      <td>116</td>\n",
       "      <td></td>\n",
       "      <td></td>\n",
       "      <td>9</td>\n",
       "      <td>1096</td>\n",
       "      <td>7380</td>\n",
       "      <td>13.0%</td>\n",
       "    </tr>\n",
       "    <tr>\n",
       "      <th>6</th>\n",
       "      <td></td>\n",
       "      <td></td>\n",
       "      <td>44</td>\n",
       "      <td></td>\n",
       "      <td></td>\n",
       "      <td>264</td>\n",
       "      <td></td>\n",
       "      <td>512</td>\n",
       "      <td></td>\n",
       "      <td></td>\n",
       "      <td></td>\n",
       "      <td></td>\n",
       "      <td>8</td>\n",
       "      <td>820</td>\n",
       "      <td>4852</td>\n",
       "      <td>14.0%</td>\n",
       "    </tr>\n",
       "    <tr>\n",
       "      <th>7</th>\n",
       "      <td></td>\n",
       "      <td></td>\n",
       "      <td></td>\n",
       "      <td></td>\n",
       "      <td></td>\n",
       "      <td></td>\n",
       "      <td></td>\n",
       "      <td></td>\n",
       "      <td></td>\n",
       "      <td></td>\n",
       "      <td></td>\n",
       "      <td></td>\n",
       "      <td>6</td>\n",
       "      <td></td>\n",
       "      <td>3788</td>\n",
       "      <td></td>\n",
       "    </tr>\n",
       "    <tr>\n",
       "      <th>8</th>\n",
       "      <td></td>\n",
       "      <td></td>\n",
       "      <td>120</td>\n",
       "      <td></td>\n",
       "      <td></td>\n",
       "      <td></td>\n",
       "      <td></td>\n",
       "      <td>88</td>\n",
       "      <td></td>\n",
       "      <td></td>\n",
       "      <td></td>\n",
       "      <td></td>\n",
       "      <td>3</td>\n",
       "      <td>208</td>\n",
       "      <td>3200</td>\n",
       "      <td>6.0%</td>\n",
       "    </tr>\n",
       "    <tr>\n",
       "      <th>9</th>\n",
       "      <td></td>\n",
       "      <td></td>\n",
       "      <td>188</td>\n",
       "      <td></td>\n",
       "      <td></td>\n",
       "      <td></td>\n",
       "      <td></td>\n",
       "      <td></td>\n",
       "      <td></td>\n",
       "      <td></td>\n",
       "      <td></td>\n",
       "      <td></td>\n",
       "      <td>1</td>\n",
       "      <td>188</td>\n",
       "      <td>1684</td>\n",
       "      <td>10.0%</td>\n",
       "    </tr>\n",
       "    <tr>\n",
       "      <th>Total</th>\n",
       "      <td>368</td>\n",
       "      <td>336</td>\n",
       "      <td>424</td>\n",
       "      <td>532</td>\n",
       "      <td>620</td>\n",
       "      <td>4272</td>\n",
       "      <td>1884</td>\n",
       "      <td>712</td>\n",
       "      <td>1768</td>\n",
       "      <td>716</td>\n",
       "      <td>396</td>\n",
       "      <td>304</td>\n",
       "      <td>84</td>\n",
       "      <td>12332</td>\n",
       "      <td>65848</td>\n",
       "      <td>16.0%</td>\n",
       "    </tr>\n",
       "  </tbody>\n",
       "</table>\n",
       "</div>"
      ],
      "text/plain": [
       "Person    43   48   52   59   64    80    92   96   107  109  115  120  \\\n",
       "Session                                                                  \n",
       "0        140        72       244  1052   464         32        60  116   \n",
       "1             148       532   64   536   696             600             \n",
       "2                             64   484              848       220        \n",
       "3                                  484               60        56  188   \n",
       "4        228                 248   660   724  112   828        60        \n",
       "5             188                  792                   116             \n",
       "6                   44             264        512                        \n",
       "7                                                                        \n",
       "8                  120                         88                        \n",
       "9                  188                                                   \n",
       "Total    368  336  424  532  620  4272  1884  712  1768  716  396  304   \n",
       "\n",
       "Person   # of Persons   Pain  No Pain Pain %  \n",
       "Session                                       \n",
       "0                  12   2180    12424  15.0%  \n",
       "1                  12   2576     8792  23.0%  \n",
       "2                  11   1616     8756  16.0%  \n",
       "3                  11    788     7696   9.0%  \n",
       "4                  11   2860     7276  28.0%  \n",
       "5                   9   1096     7380  13.0%  \n",
       "6                   8    820     4852  14.0%  \n",
       "7                   6            3788         \n",
       "8                   3    208     3200   6.0%  \n",
       "9                   1    188     1684  10.0%  \n",
       "Total              84  12332    65848  16.0%  "
      ]
     },
     "execution_count": 58,
     "metadata": {},
     "output_type": "execute_result"
    }
   ],
   "source": [
    "dL.create_pivot(os.path.join(DATA, 'group_2'), 'Session', 'Person', 'Session')"
   ]
  },
  {
   "cell_type": "markdown",
   "metadata": {},
   "source": [
    "### By Session"
   ]
  },
  {
   "cell_type": "code",
   "execution_count": 57,
   "metadata": {},
   "outputs": [
    {
     "data": {
      "text/html": [
       "<div>\n",
       "<style scoped>\n",
       "    .dataframe tbody tr th:only-of-type {\n",
       "        vertical-align: middle;\n",
       "    }\n",
       "\n",
       "    .dataframe tbody tr th {\n",
       "        vertical-align: top;\n",
       "    }\n",
       "\n",
       "    .dataframe thead th {\n",
       "        text-align: right;\n",
       "    }\n",
       "</style>\n",
       "<table border=\"1\" class=\"dataframe\">\n",
       "  <thead>\n",
       "    <tr style=\"text-align: right;\">\n",
       "      <th>Session</th>\n",
       "      <th>0</th>\n",
       "      <th>1</th>\n",
       "      <th>2</th>\n",
       "      <th>3</th>\n",
       "      <th>4</th>\n",
       "      <th>5</th>\n",
       "      <th>6</th>\n",
       "      <th>7</th>\n",
       "      <th>8</th>\n",
       "      <th>9</th>\n",
       "      <th># of Sessions</th>\n",
       "      <th>Pain</th>\n",
       "      <th>No Pain</th>\n",
       "      <th>Pain %</th>\n",
       "    </tr>\n",
       "    <tr>\n",
       "      <th>Person</th>\n",
       "      <th></th>\n",
       "      <th></th>\n",
       "      <th></th>\n",
       "      <th></th>\n",
       "      <th></th>\n",
       "      <th></th>\n",
       "      <th></th>\n",
       "      <th></th>\n",
       "      <th></th>\n",
       "      <th></th>\n",
       "      <th></th>\n",
       "      <th></th>\n",
       "      <th></th>\n",
       "      <th></th>\n",
       "    </tr>\n",
       "  </thead>\n",
       "  <tbody>\n",
       "    <tr>\n",
       "      <th>52</th>\n",
       "      <td>72</td>\n",
       "      <td></td>\n",
       "      <td></td>\n",
       "      <td></td>\n",
       "      <td></td>\n",
       "      <td></td>\n",
       "      <td>44</td>\n",
       "      <td></td>\n",
       "      <td>120</td>\n",
       "      <td>188</td>\n",
       "      <td>10</td>\n",
       "      <td>424</td>\n",
       "      <td>10012</td>\n",
       "      <td>4.0%</td>\n",
       "    </tr>\n",
       "    <tr>\n",
       "      <th>43</th>\n",
       "      <td>140</td>\n",
       "      <td></td>\n",
       "      <td></td>\n",
       "      <td></td>\n",
       "      <td>228</td>\n",
       "      <td></td>\n",
       "      <td></td>\n",
       "      <td></td>\n",
       "      <td></td>\n",
       "      <td></td>\n",
       "      <td>9</td>\n",
       "      <td>368</td>\n",
       "      <td>4112</td>\n",
       "      <td>8.0%</td>\n",
       "    </tr>\n",
       "    <tr>\n",
       "      <th>96</th>\n",
       "      <td></td>\n",
       "      <td></td>\n",
       "      <td></td>\n",
       "      <td></td>\n",
       "      <td>112</td>\n",
       "      <td></td>\n",
       "      <td>512</td>\n",
       "      <td></td>\n",
       "      <td>88</td>\n",
       "      <td></td>\n",
       "      <td>9</td>\n",
       "      <td>712</td>\n",
       "      <td>8700</td>\n",
       "      <td>8.0%</td>\n",
       "    </tr>\n",
       "    <tr>\n",
       "      <th>107</th>\n",
       "      <td>32</td>\n",
       "      <td></td>\n",
       "      <td>848</td>\n",
       "      <td>60</td>\n",
       "      <td>828</td>\n",
       "      <td></td>\n",
       "      <td></td>\n",
       "      <td></td>\n",
       "      <td></td>\n",
       "      <td></td>\n",
       "      <td>8</td>\n",
       "      <td>1768</td>\n",
       "      <td>6396</td>\n",
       "      <td>22.0%</td>\n",
       "    </tr>\n",
       "    <tr>\n",
       "      <th>109</th>\n",
       "      <td></td>\n",
       "      <td>600</td>\n",
       "      <td></td>\n",
       "      <td></td>\n",
       "      <td></td>\n",
       "      <td>116</td>\n",
       "      <td></td>\n",
       "      <td></td>\n",
       "      <td></td>\n",
       "      <td></td>\n",
       "      <td>8</td>\n",
       "      <td>716</td>\n",
       "      <td>6896</td>\n",
       "      <td>9.0%</td>\n",
       "    </tr>\n",
       "    <tr>\n",
       "      <th>120</th>\n",
       "      <td>116</td>\n",
       "      <td></td>\n",
       "      <td></td>\n",
       "      <td>188</td>\n",
       "      <td></td>\n",
       "      <td></td>\n",
       "      <td></td>\n",
       "      <td></td>\n",
       "      <td></td>\n",
       "      <td></td>\n",
       "      <td>8</td>\n",
       "      <td>304</td>\n",
       "      <td>5960</td>\n",
       "      <td>5.0%</td>\n",
       "    </tr>\n",
       "    <tr>\n",
       "      <th>48</th>\n",
       "      <td></td>\n",
       "      <td>148</td>\n",
       "      <td></td>\n",
       "      <td></td>\n",
       "      <td></td>\n",
       "      <td>188</td>\n",
       "      <td></td>\n",
       "      <td></td>\n",
       "      <td></td>\n",
       "      <td></td>\n",
       "      <td>7</td>\n",
       "      <td>336</td>\n",
       "      <td>3192</td>\n",
       "      <td>10.0%</td>\n",
       "    </tr>\n",
       "    <tr>\n",
       "      <th>80</th>\n",
       "      <td>1052</td>\n",
       "      <td>536</td>\n",
       "      <td>484</td>\n",
       "      <td>484</td>\n",
       "      <td>660</td>\n",
       "      <td>792</td>\n",
       "      <td>264</td>\n",
       "      <td></td>\n",
       "      <td></td>\n",
       "      <td></td>\n",
       "      <td>7</td>\n",
       "      <td>4272</td>\n",
       "      <td>3584</td>\n",
       "      <td>54.0%</td>\n",
       "    </tr>\n",
       "    <tr>\n",
       "      <th>64</th>\n",
       "      <td>244</td>\n",
       "      <td>64</td>\n",
       "      <td>64</td>\n",
       "      <td></td>\n",
       "      <td>248</td>\n",
       "      <td></td>\n",
       "      <td></td>\n",
       "      <td></td>\n",
       "      <td></td>\n",
       "      <td></td>\n",
       "      <td>6</td>\n",
       "      <td>620</td>\n",
       "      <td>5576</td>\n",
       "      <td>10.0%</td>\n",
       "    </tr>\n",
       "    <tr>\n",
       "      <th>92</th>\n",
       "      <td>464</td>\n",
       "      <td>696</td>\n",
       "      <td></td>\n",
       "      <td></td>\n",
       "      <td>724</td>\n",
       "      <td></td>\n",
       "      <td></td>\n",
       "      <td></td>\n",
       "      <td></td>\n",
       "      <td></td>\n",
       "      <td>5</td>\n",
       "      <td>1884</td>\n",
       "      <td>4124</td>\n",
       "      <td>31.0%</td>\n",
       "    </tr>\n",
       "    <tr>\n",
       "      <th>115</th>\n",
       "      <td>60</td>\n",
       "      <td></td>\n",
       "      <td>220</td>\n",
       "      <td>56</td>\n",
       "      <td>60</td>\n",
       "      <td></td>\n",
       "      <td></td>\n",
       "      <td></td>\n",
       "      <td></td>\n",
       "      <td></td>\n",
       "      <td>5</td>\n",
       "      <td>396</td>\n",
       "      <td>4736</td>\n",
       "      <td>8.0%</td>\n",
       "    </tr>\n",
       "    <tr>\n",
       "      <th>59</th>\n",
       "      <td></td>\n",
       "      <td>532</td>\n",
       "      <td></td>\n",
       "      <td></td>\n",
       "      <td></td>\n",
       "      <td></td>\n",
       "      <td></td>\n",
       "      <td></td>\n",
       "      <td></td>\n",
       "      <td></td>\n",
       "      <td>2</td>\n",
       "      <td>532</td>\n",
       "      <td>2560</td>\n",
       "      <td>17.0%</td>\n",
       "    </tr>\n",
       "    <tr>\n",
       "      <th>Total</th>\n",
       "      <td>2180</td>\n",
       "      <td>2576</td>\n",
       "      <td>1616</td>\n",
       "      <td>788</td>\n",
       "      <td>2860</td>\n",
       "      <td>1096</td>\n",
       "      <td>820</td>\n",
       "      <td></td>\n",
       "      <td>208</td>\n",
       "      <td>188</td>\n",
       "      <td>84</td>\n",
       "      <td>12332</td>\n",
       "      <td>65848</td>\n",
       "      <td>16.0%</td>\n",
       "    </tr>\n",
       "  </tbody>\n",
       "</table>\n",
       "</div>"
      ],
      "text/plain": [
       "Session     0     1     2    3     4     5    6 7    8    9  # of Sessions  \\\n",
       "Person                                                                       \n",
       "52         72                                44    120  188             10   \n",
       "43        140                    228                                     9   \n",
       "96                               112        512     88                   9   \n",
       "107        32         848   60   828                                     8   \n",
       "109             600                    116                               8   \n",
       "120       116              188                                           8   \n",
       "48              148                    188                               7   \n",
       "80       1052   536   484  484   660   792  264                          7   \n",
       "64        244    64    64        248                                     6   \n",
       "92        464   696              724                                     5   \n",
       "115        60         220   56    60                                     5   \n",
       "59              532                                                      2   \n",
       "Total    2180  2576  1616  788  2860  1096  820    208  188             84   \n",
       "\n",
       "Session   Pain  No Pain  Pain %  \n",
       "Person                           \n",
       "52         424    10012    4.0%  \n",
       "43         368     4112    8.0%  \n",
       "96         712     8700    8.0%  \n",
       "107       1768     6396   22.0%  \n",
       "109        716     6896    9.0%  \n",
       "120        304     5960    5.0%  \n",
       "48         336     3192   10.0%  \n",
       "80        4272     3584   54.0%  \n",
       "64         620     5576   10.0%  \n",
       "92        1884     4124   31.0%  \n",
       "115        396     4736    8.0%  \n",
       "59         532     2560   17.0%  \n",
       "Total    12332    65848   16.0%  "
      ]
     },
     "execution_count": 57,
     "metadata": {},
     "output_type": "execute_result"
    }
   ],
   "source": [
    "dL.create_pivot(os.path.join(DATA, 'group_2'), 'Person', 'Session', 'Person')"
   ]
  },
  {
   "cell_type": "code",
   "execution_count": 59,
   "metadata": {},
   "outputs": [],
   "source": [
    "# Create Dataframe\n",
    "df = pd.DataFrame(dL.get_labels(dL.get_image_paths(os.path.join(DATA, 'group_2'))), columns=['Person', 'Session', 'Culture', 'Frame', 'Pain', 'Trans_1', 'Trans2'])\n",
    "df[['Person', 'Session', 'Culture', 'Frame', 'Pain', ]] = df[['Person', 'Session', 'Culture', 'Frame', 'Pain', ]].astype(int)\n",
    "\n",
    "# Get Frequencey values\n",
    "sessions = sorted(df['Session'].unique())\n",
    "share_1 = {}\n",
    "for session in sessions:\n",
    "    key, val = np.unique(df[df['Session'] == session]['Pain'], return_counts=True)\n",
    "    if 1 in key:\n",
    "        share_1[session] = val[1] / sum(val[1:])"
   ]
  },
  {
   "cell_type": "code",
   "execution_count": 79,
   "metadata": {},
   "outputs": [
    {
     "data": {
      "text/plain": [
       "(array([0, 1, 2]), array([1424,   24,   48]))"
      ]
     },
     "execution_count": 79,
     "metadata": {},
     "output_type": "execute_result"
    }
   ],
   "source": [
    "np.unique(df[(df['Person'] == 52) & (df['Session'] == 0)]['Pain'], return_counts=True)"
   ]
  },
  {
   "cell_type": "code",
   "execution_count": 75,
   "metadata": {},
   "outputs": [
    {
     "data": {
      "text/plain": [
       "(array([0, 1, 2, 3, 4, 5, 6, 7, 8, 9]),\n",
       " array([7276,  800, 1388,  264,  176,   44,   20,   80,   32,   56]))"
      ]
     },
     "execution_count": 75,
     "metadata": {},
     "output_type": "execute_result"
    }
   ],
   "source": [
    "np.unique(df[(df['Session'] == 4)]['Pain'], return_counts=True)"
   ]
  },
  {
   "cell_type": "code",
   "execution_count": 62,
   "metadata": {},
   "outputs": [],
   "source": [
    "a = np.array([2180, 2576, 1616])\n",
    "b = np.array([0.46, 0.31, 0.7])"
   ]
  },
  {
   "cell_type": "code",
   "execution_count": 66,
   "metadata": {},
   "outputs": [],
   "source": [
    "c = a * b"
   ]
  },
  {
   "cell_type": "code",
   "execution_count": 67,
   "metadata": {},
   "outputs": [],
   "source": [
    "d = a / b"
   ]
  },
  {
   "cell_type": "code",
   "execution_count": 69,
   "metadata": {},
   "outputs": [
    {
     "data": {
      "text/plain": [
       "0.13804786001418776"
      ]
     },
     "execution_count": 69,
     "metadata": {},
     "output_type": "execute_result"
    }
   ],
   "source": [
    "sum(c[:2]) / sum(d[:2])"
   ]
  },
  {
   "cell_type": "code",
   "execution_count": 72,
   "metadata": {},
   "outputs": [
    {
     "data": {
      "text/plain": [
       "0.19095445557575158"
      ]
     },
     "execution_count": 72,
     "metadata": {},
     "output_type": "execute_result"
    }
   ],
   "source": [
    "sum(c) / sum(d)"
   ]
  },
  {
   "cell_type": "code",
   "execution_count": null,
   "metadata": {},
   "outputs": [],
   "source": []
  }
 ],
 "metadata": {
  "kernelspec": {
   "display_name": "FederatedLearning",
   "language": "python",
   "name": "federatedlearning"
  },
  "language_info": {
   "codemirror_mode": {
    "name": "ipython",
    "version": 3
   },
   "file_extension": ".py",
   "mimetype": "text/x-python",
   "name": "python",
   "nbconvert_exporter": "python",
   "pygments_lexer": "ipython3",
   "version": "3.7.2"
  }
 },
 "nbformat": 4,
 "nbformat_minor": 2
}
