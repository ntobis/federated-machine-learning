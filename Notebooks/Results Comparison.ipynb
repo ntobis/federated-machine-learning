{
 "cells": [
  {
   "cell_type": "code",
   "execution_count": 79,
   "metadata": {},
   "outputs": [],
   "source": [
    "import os, sys\n",
    "import pandas as pd\n",
    "import numpy as np\n",
    "from functools import reduce\n",
    "\n",
    "module_path = os.path.abspath(os.path.join('..'))\n",
    "if module_path not in sys.path:\n",
    "    sys.path.append(module_path)\n",
    "\n",
    "from Scripts import Data_Loader_Functions as dL\n",
    "from Scripts import Results_Evaluation as rE\n",
    "RESULTS = os.path.join(module_path, 'Results', 'Paper')\n",
    "DATA = os.path.join(module_path, 'Data', 'Augmented Data')"
   ]
  },
  {
   "cell_type": "code",
   "execution_count": 102,
   "metadata": {},
   "outputs": [],
   "source": [
    "# Create DF with TP TN FP FN\n",
    "model_name = 'PFDL'\n",
    "df = pd.read_csv(os.path.join(RESULTS, '20200223 - ' + model_name + \"_all_final.csv\"))"
   ]
  },
  {
   "cell_type": "code",
   "execution_count": 103,
   "metadata": {},
   "outputs": [],
   "source": [
    "# Load Pivot & Subjects\n",
    "pivot = dL.create_pivot(os.path.join(DATA, 'group_2'), 'Session', 'Person', 'Session')\n",
    "subjects = dL.create_pain_df(os.path.join(DATA, 'group_2'))['Person'].unique()"
   ]
  },
  {
   "cell_type": "code",
   "execution_count": 104,
   "metadata": {},
   "outputs": [],
   "source": [
    "def filter_granular_results(df, subjects, pivot, model_name):\n",
    "    \n",
    "    # Add columns to df [TP, TN, FP, FN]\n",
    "    df['label'] = np.minimum(df['True Label'], 1)\n",
    "    df['prediction'] = df[model_name].round()\n",
    "    df['TP'] = (df['label'] == 1) & (df['prediction'] == 1)\n",
    "    df['TN'] = (df['label'] == 0) & (df['prediction'] == 0)\n",
    "    df['FP'] = (df['label'] == 0) & (df['prediction'] == 1)\n",
    "    df['FN'] = (df['label'] == 1) & (df['prediction'] == 0)\n",
    "\n",
    "    # Prepare pivot to be merged with df\n",
    "    columns = np.insert(subjects.astype(object), 0, 'Session')\n",
    "    pivot = pivot.reset_index()[columns].drop(0).reset_index(drop=True)\n",
    "    pivot_has_positive = pivot[pivot.columns[1:]] != ''\n",
    "    pivot_has_positive['Session'] = pivot['Session']\n",
    "    pivot_has_positive = pivot_has_positive.drop(9)\n",
    "    unpivot_has_positive = pivot_has_positive.melt(id_vars=['Session'])\n",
    "    unpivot_has_positive = unpivot_has_positive.rename(columns={'Person': 'Subject ID', 'value': 'has_positive'})\n",
    "\n",
    "    # Merge pivot and df to indicate, which subjects have positive examples in a given session\n",
    "    df_merge = df.merge(unpivot_has_positive)\n",
    "    \n",
    "    # Return only those session/subject combinations that have positive examples\n",
    "    return df_merge[df_merge['has_positive']]"
   ]
  },
  {
   "cell_type": "code",
   "execution_count": 105,
   "metadata": {},
   "outputs": [],
   "source": [
    "df_merge_has_positive = filter_granular_results(df, subjects, pivot, model_name)"
   ]
  },
  {
   "cell_type": "code",
   "execution_count": 106,
   "metadata": {},
   "outputs": [],
   "source": [
    "df_merge_has_positive.to_csv(os.path.join(RESULTS, '20200223 - ' + model_name + \"_all_final_positive.csv\"))"
   ]
  },
  {
   "cell_type": "code",
   "execution_count": null,
   "metadata": {},
   "outputs": [],
   "source": []
  }
 ],
 "metadata": {
  "kernelspec": {
   "display_name": "FederatedLearning",
   "language": "python",
   "name": "federatedlearning"
  },
  "language_info": {
   "codemirror_mode": {
    "name": "ipython",
    "version": 3
   },
   "file_extension": ".py",
   "mimetype": "text/x-python",
   "name": "python",
   "nbconvert_exporter": "python",
   "pygments_lexer": "ipython3",
   "version": "3.7.2"
  }
 },
 "nbformat": 4,
 "nbformat_minor": 4
}
