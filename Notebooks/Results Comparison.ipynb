{
 "cells": [
  {
   "cell_type": "code",
   "execution_count": 1,
   "metadata": {},
   "outputs": [],
   "source": [
    "import os, sys\n",
    "import pandas as pd\n",
    "import numpy as np\n",
    "from functools import reduce\n",
    "\n",
    "module_path = os.path.abspath(os.path.join('..'))\n",
    "if module_path not in sys.path:\n",
    "    sys.path.append(module_path)\n",
    "\n",
    "from Scripts import Data_Loader_Functions as dL\n",
    "from Scripts import Results_Evaluation as rE\n",
    "RESULTS = os.path.join(module_path, 'Results', 'Thesis')\n",
    "DATA = os.path.join(module_path, 'Data', 'Augmented Data')"
   ]
  },
  {
   "cell_type": "code",
   "execution_count": 64,
   "metadata": {},
   "outputs": [],
   "source": [
    "# Create DF with TP TN FP FN\n",
    "df = pd.read_csv(os.path.join(module_path, \"BCDL_all.csv\"))"
   ]
  },
  {
   "cell_type": "code",
   "execution_count": 36,
   "metadata": {},
   "outputs": [],
   "source": [
    "# Load Pivot & Subjects\n",
    "pivot = dL.create_pivot(os.path.join(DATA, 'group_2'), 'Session', 'Person', 'Session')\n",
    "subjects = dL.create_pain_df(os.path.join(DATA, 'group_2'))['Person'].unique()"
   ]
  },
  {
   "cell_type": "code",
   "execution_count": 37,
   "metadata": {},
   "outputs": [],
   "source": [
    "def filter_granular_results(df, subjects, pivot, model_name):\n",
    "    \n",
    "    # Add columns to df [TP, TN, FP, FN]\n",
    "    df['label'] = np.minimum(df['True Label'], 1)\n",
    "    df['prediction'] = df[model_name].round()\n",
    "    df['TP'] = (df['label'] == 1) & (df['prediction'] == 1)\n",
    "    df['TN'] = (df['label'] == 0) & (df['prediction'] == 0)\n",
    "    df['FP'] = (df['label'] == 0) & (df['prediction'] == 1)\n",
    "    df['FN'] = (df['label'] == 1) & (df['prediction'] == 0)\n",
    "\n",
    "    # Prepare pivot to be merged with df\n",
    "    columns = np.insert(subjects.astype(object), 0, 'Session')\n",
    "    pivot = pivot.reset_index()[columns].drop(0).reset_index(drop=True)\n",
    "    pivot_has_positive = pivot[pivot.columns[1:]] != ''\n",
    "    pivot_has_positive['Session'] = pivot['Session']\n",
    "    pivot_has_positive = pivot_has_positive.drop(9)\n",
    "    unpivot_has_positive = pivot_has_positive.melt(id_vars=['Session'])\n",
    "    unpivot_has_positive = unpivot_has_positive.rename(columns={'Person': 'Subject ID', 'value': 'has_positive'})\n",
    "\n",
    "    # Merge pivot and df to indicate, which subjects have positive examples in a given session\n",
    "    df_merge = df.merge(unpivot_has_positive)\n",
    "    \n",
    "    # Return only those session/subject combinations that have positive examples\n",
    "    return df_merge[df_merge['has_positive']]"
   ]
  },
  {
   "cell_type": "code",
   "execution_count": 65,
   "metadata": {},
   "outputs": [],
   "source": [
    "df_merge_has_positive = filter_granular_results(df, subjects, pivot, 'BCDL')"
   ]
  },
  {
   "cell_type": "code",
   "execution_count": 66,
   "metadata": {},
   "outputs": [],
   "source": [
    "df_test = df_merge_has_positive[(df_merge_has_positive['Subject ID'] == 59) & (df_merge_has_positive['Seed'] == 123)]"
   ]
  },
  {
   "cell_type": "code",
   "execution_count": 67,
   "metadata": {},
   "outputs": [
    {
     "name": "stdout",
     "output_type": "stream",
     "text": [
      "TP:  469\n",
      "TN:  252\n",
      "FP:  688\n",
      "FN:  63\n",
      "ACC:  0.4898097826086957\n"
     ]
    }
   ],
   "source": [
    "print(\"TP: \", df_test['TP'].sum())\n",
    "print(\"TN: \", df_test['TN'].sum())\n",
    "print(\"FP: \", df_test['FP'].sum())\n",
    "print(\"FN: \", df_test['FN'].sum())\n",
    "print(\"ACC: \", (df_test['TP'].sum() + df_test['TN'].sum()) / len(df_test))"
   ]
  },
  {
   "cell_type": "code",
   "execution_count": 41,
   "metadata": {},
   "outputs": [
    {
     "data": {
      "text/html": [
       "<div>\n",
       "<style scoped>\n",
       "    .dataframe tbody tr th:only-of-type {\n",
       "        vertical-align: middle;\n",
       "    }\n",
       "\n",
       "    .dataframe tbody tr th {\n",
       "        vertical-align: top;\n",
       "    }\n",
       "\n",
       "    .dataframe thead th {\n",
       "        text-align: right;\n",
       "    }\n",
       "</style>\n",
       "<table border=\"1\" class=\"dataframe\">\n",
       "  <thead>\n",
       "    <tr style=\"text-align: right;\">\n",
       "      <th></th>\n",
       "      <th>43</th>\n",
       "      <th>48</th>\n",
       "      <th>52</th>\n",
       "      <th>59</th>\n",
       "      <th>64</th>\n",
       "      <th>80</th>\n",
       "      <th>92</th>\n",
       "      <th>96</th>\n",
       "      <th>107</th>\n",
       "      <th>109</th>\n",
       "      <th>115</th>\n",
       "      <th>120</th>\n",
       "      <th>Weighted Mean</th>\n",
       "      <th>Weighted SD</th>\n",
       "    </tr>\n",
       "  </thead>\n",
       "  <tbody>\n",
       "    <tr>\n",
       "      <th>0</th>\n",
       "      <td>0.694611</td>\n",
       "      <td>0.789506</td>\n",
       "      <td>0.919086</td>\n",
       "      <td>0.48981</td>\n",
       "      <td>0.912587</td>\n",
       "      <td>0.624392</td>\n",
       "      <td>0.696678</td>\n",
       "      <td>0.835106</td>\n",
       "      <td>0.728125</td>\n",
       "      <td>0.787677</td>\n",
       "      <td>0.786175</td>\n",
       "      <td>0.631481</td>\n",
       "      <td>0.760872</td>\n",
       "      <td>0.121167</td>\n",
       "    </tr>\n",
       "  </tbody>\n",
       "</table>\n",
       "</div>"
      ],
      "text/plain": [
       "         43        48        52       59        64        80        92  \\\n",
       "0  0.694611  0.789506  0.919086  0.48981  0.912587  0.624392  0.696678   \n",
       "\n",
       "         96       107       109       115       120  Weighted Mean  \\\n",
       "0  0.835106  0.728125  0.787677  0.786175  0.631481       0.760872   \n",
       "\n",
       "   Weighted SD  \n",
       "0     0.121167  "
      ]
     },
     "execution_count": 41,
     "metadata": {},
     "output_type": "execute_result"
    }
   ],
   "source": [
    "df_1 = pd.read_csv(os.path.join(module_path, 'Results/Thesis/NEW/123 - Seed 123 - Sessions NEW/2020-01-25-234643_PAIN_4-sessions-Federated-central-pre-training_TEST.csv'))\n",
    "rE.weighted_mean_SD(df_1, subjects, 'accuracy', False, pivot)"
   ]
  },
  {
   "cell_type": "code",
   "execution_count": 44,
   "metadata": {},
   "outputs": [
    {
     "name": "stdout",
     "output_type": "stream",
     "text": [
      "TP:  469.0\n",
      "TN:  252.0\n",
      "FP:  688.0\n",
      "FN:  63.0\n"
     ]
    }
   ],
   "source": [
    "print(\"TP: \", df_1['subject_59_true_positives'][0])\n",
    "print(\"TN: \", df_1['subject_59_true_negatives'][0])\n",
    "print(\"FP: \", df_1['subject_59_false_positives'][0])\n",
    "print(\"FN: \", df_1['subject_59_false_negatives'][0])"
   ]
  },
  {
   "cell_type": "code",
   "execution_count": 33,
   "metadata": {},
   "outputs": [
    {
     "data": {
      "text/plain": [
       "1472.0"
      ]
     },
     "execution_count": 33,
     "metadata": {},
     "output_type": "execute_result"
    }
   ],
   "source": [
    "sum((469.0, 252, 688, 63))"
   ]
  },
  {
   "cell_type": "code",
   "execution_count": 34,
   "metadata": {},
   "outputs": [
    {
     "data": {
      "text/plain": [
       "1472"
      ]
     },
     "execution_count": 34,
     "metadata": {},
     "output_type": "execute_result"
    }
   ],
   "source": [
    "sum((488, 155, 785, 44))"
   ]
  },
  {
   "cell_type": "code",
   "execution_count": 46,
   "metadata": {},
   "outputs": [],
   "source": [
    "df_1 = pd.read_csv(os.path.join(module_path, 'Results/Thesis/NEW/123 - Seed 123 - Sessions NEW/2020-01-26-010842_PAIN_0-sessions-centralized-pre-training_TEST.csv'))\n",
    "df_2 = pd.read_csv(os.path.join(module_path, 'Results/Thesis/NEW/123 - Seed 123 - Sessions NEW/2020-01-25-231525_PAIN_2-sessions-Centralized-pre-training_TEST.csv'))\n",
    "df_3 = pd.read_csv(os.path.join(module_path, 'Results/Thesis/NEW/123 - Seed 123 - Sessions NEW/2020-01-25-234643_PAIN_4-sessions-Federated-central-pre-training_TEST.csv'))\n",
    "df_4 = pd.read_csv(os.path.join(module_path, 'Results/Thesis/NEW/123 - Seed 123 - Sessions NEW/2020-01-26-003549_PAIN_7-sessions-Federated-central-pre-training-personalization_TEST.csv'))\n",
    "df_5 = pd.read_csv(os.path.join(module_path, 'Results/Thesis/NEW/123 - Seed 123 - Sessions NEW/2020-01-26-010705_PAIN_10-sessions-Federated-central-pre-training-local-models_TEST.csv'))"
   ]
  },
  {
   "cell_type": "code",
   "execution_count": 72,
   "metadata": {},
   "outputs": [
    {
     "data": {
      "text/plain": [
       "0    469.0\n",
       "1      NaN\n",
       "2      NaN\n",
       "3      NaN\n",
       "4      NaN\n",
       "5      NaN\n",
       "6      NaN\n",
       "7      NaN\n",
       "8      NaN\n",
       "Name: subject_59_true_positives, dtype: float64"
      ]
     },
     "execution_count": 72,
     "metadata": {},
     "output_type": "execute_result"
    }
   ],
   "source": [
    "df_1['subject_59_true_positives']"
   ]
  },
  {
   "cell_type": "code",
   "execution_count": 73,
   "metadata": {},
   "outputs": [
    {
     "data": {
      "text/plain": [
       "0    469.0\n",
       "1      NaN\n",
       "2      NaN\n",
       "3      NaN\n",
       "4      NaN\n",
       "5      NaN\n",
       "6      NaN\n",
       "7      NaN\n",
       "8      NaN\n",
       "Name: subject_59_true_positives, dtype: float64"
      ]
     },
     "execution_count": 73,
     "metadata": {},
     "output_type": "execute_result"
    }
   ],
   "source": [
    "df_2['subject_59_true_positives']"
   ]
  },
  {
   "cell_type": "code",
   "execution_count": 74,
   "metadata": {},
   "outputs": [
    {
     "data": {
      "text/plain": [
       "0    469.0\n",
       "1      NaN\n",
       "2      NaN\n",
       "3      NaN\n",
       "4      NaN\n",
       "5      NaN\n",
       "6      NaN\n",
       "7      NaN\n",
       "8      NaN\n",
       "Name: subject_59_true_positives, dtype: float64"
      ]
     },
     "execution_count": 74,
     "metadata": {},
     "output_type": "execute_result"
    }
   ],
   "source": [
    "df_3['subject_59_true_positives']"
   ]
  },
  {
   "cell_type": "code",
   "execution_count": 68,
   "metadata": {},
   "outputs": [
    {
     "data": {
      "text/html": [
       "<div>\n",
       "<style scoped>\n",
       "    .dataframe tbody tr th:only-of-type {\n",
       "        vertical-align: middle;\n",
       "    }\n",
       "\n",
       "    .dataframe tbody tr th {\n",
       "        vertical-align: top;\n",
       "    }\n",
       "\n",
       "    .dataframe thead th {\n",
       "        text-align: right;\n",
       "    }\n",
       "</style>\n",
       "<table border=\"1\" class=\"dataframe\">\n",
       "  <thead>\n",
       "    <tr style=\"text-align: right;\">\n",
       "      <th>Person</th>\n",
       "      <th>43</th>\n",
       "      <th>48</th>\n",
       "      <th>52</th>\n",
       "      <th>59</th>\n",
       "      <th>64</th>\n",
       "      <th>80</th>\n",
       "      <th>92</th>\n",
       "      <th>96</th>\n",
       "      <th>107</th>\n",
       "      <th>109</th>\n",
       "      <th>115</th>\n",
       "      <th>120</th>\n",
       "      <th># of Persons</th>\n",
       "      <th>Pain</th>\n",
       "      <th>No Pain</th>\n",
       "      <th>Pain %</th>\n",
       "    </tr>\n",
       "    <tr>\n",
       "      <th>Session</th>\n",
       "      <th></th>\n",
       "      <th></th>\n",
       "      <th></th>\n",
       "      <th></th>\n",
       "      <th></th>\n",
       "      <th></th>\n",
       "      <th></th>\n",
       "      <th></th>\n",
       "      <th></th>\n",
       "      <th></th>\n",
       "      <th></th>\n",
       "      <th></th>\n",
       "      <th></th>\n",
       "      <th></th>\n",
       "      <th></th>\n",
       "      <th></th>\n",
       "    </tr>\n",
       "  </thead>\n",
       "  <tbody>\n",
       "    <tr>\n",
       "      <th>0</th>\n",
       "      <td>140</td>\n",
       "      <td></td>\n",
       "      <td>72</td>\n",
       "      <td></td>\n",
       "      <td>244</td>\n",
       "      <td>1052</td>\n",
       "      <td>464</td>\n",
       "      <td></td>\n",
       "      <td>32</td>\n",
       "      <td></td>\n",
       "      <td>60</td>\n",
       "      <td>116</td>\n",
       "      <td>12</td>\n",
       "      <td>2180</td>\n",
       "      <td>12424</td>\n",
       "      <td>0.15</td>\n",
       "    </tr>\n",
       "    <tr>\n",
       "      <th>1</th>\n",
       "      <td></td>\n",
       "      <td>148</td>\n",
       "      <td></td>\n",
       "      <td>532</td>\n",
       "      <td>64</td>\n",
       "      <td>536</td>\n",
       "      <td>696</td>\n",
       "      <td></td>\n",
       "      <td></td>\n",
       "      <td>600</td>\n",
       "      <td></td>\n",
       "      <td></td>\n",
       "      <td>12</td>\n",
       "      <td>2576</td>\n",
       "      <td>8792</td>\n",
       "      <td>0.23</td>\n",
       "    </tr>\n",
       "    <tr>\n",
       "      <th>2</th>\n",
       "      <td></td>\n",
       "      <td></td>\n",
       "      <td></td>\n",
       "      <td></td>\n",
       "      <td>64</td>\n",
       "      <td>484</td>\n",
       "      <td></td>\n",
       "      <td></td>\n",
       "      <td>848</td>\n",
       "      <td></td>\n",
       "      <td>220</td>\n",
       "      <td></td>\n",
       "      <td>11</td>\n",
       "      <td>1616</td>\n",
       "      <td>8756</td>\n",
       "      <td>0.16</td>\n",
       "    </tr>\n",
       "    <tr>\n",
       "      <th>3</th>\n",
       "      <td></td>\n",
       "      <td></td>\n",
       "      <td></td>\n",
       "      <td></td>\n",
       "      <td></td>\n",
       "      <td>484</td>\n",
       "      <td></td>\n",
       "      <td></td>\n",
       "      <td>60</td>\n",
       "      <td></td>\n",
       "      <td>56</td>\n",
       "      <td>188</td>\n",
       "      <td>11</td>\n",
       "      <td>788</td>\n",
       "      <td>7696</td>\n",
       "      <td>0.09</td>\n",
       "    </tr>\n",
       "    <tr>\n",
       "      <th>4</th>\n",
       "      <td>228</td>\n",
       "      <td></td>\n",
       "      <td></td>\n",
       "      <td></td>\n",
       "      <td>248</td>\n",
       "      <td>660</td>\n",
       "      <td>724</td>\n",
       "      <td>112</td>\n",
       "      <td>828</td>\n",
       "      <td></td>\n",
       "      <td>60</td>\n",
       "      <td></td>\n",
       "      <td>11</td>\n",
       "      <td>2860</td>\n",
       "      <td>7276</td>\n",
       "      <td>0.28</td>\n",
       "    </tr>\n",
       "    <tr>\n",
       "      <th>5</th>\n",
       "      <td></td>\n",
       "      <td>188</td>\n",
       "      <td></td>\n",
       "      <td></td>\n",
       "      <td></td>\n",
       "      <td>792</td>\n",
       "      <td></td>\n",
       "      <td></td>\n",
       "      <td></td>\n",
       "      <td>116</td>\n",
       "      <td></td>\n",
       "      <td></td>\n",
       "      <td>9</td>\n",
       "      <td>1096</td>\n",
       "      <td>7380</td>\n",
       "      <td>0.13</td>\n",
       "    </tr>\n",
       "    <tr>\n",
       "      <th>6</th>\n",
       "      <td></td>\n",
       "      <td></td>\n",
       "      <td>44</td>\n",
       "      <td></td>\n",
       "      <td></td>\n",
       "      <td>264</td>\n",
       "      <td></td>\n",
       "      <td>512</td>\n",
       "      <td></td>\n",
       "      <td></td>\n",
       "      <td></td>\n",
       "      <td></td>\n",
       "      <td>8</td>\n",
       "      <td>820</td>\n",
       "      <td>4852</td>\n",
       "      <td>0.14</td>\n",
       "    </tr>\n",
       "    <tr>\n",
       "      <th>7</th>\n",
       "      <td></td>\n",
       "      <td></td>\n",
       "      <td></td>\n",
       "      <td></td>\n",
       "      <td></td>\n",
       "      <td></td>\n",
       "      <td></td>\n",
       "      <td></td>\n",
       "      <td></td>\n",
       "      <td></td>\n",
       "      <td></td>\n",
       "      <td></td>\n",
       "      <td>6</td>\n",
       "      <td></td>\n",
       "      <td>3788</td>\n",
       "      <td></td>\n",
       "    </tr>\n",
       "    <tr>\n",
       "      <th>8</th>\n",
       "      <td></td>\n",
       "      <td></td>\n",
       "      <td>120</td>\n",
       "      <td></td>\n",
       "      <td></td>\n",
       "      <td></td>\n",
       "      <td></td>\n",
       "      <td>88</td>\n",
       "      <td></td>\n",
       "      <td></td>\n",
       "      <td></td>\n",
       "      <td></td>\n",
       "      <td>3</td>\n",
       "      <td>208</td>\n",
       "      <td>3200</td>\n",
       "      <td>0.06</td>\n",
       "    </tr>\n",
       "    <tr>\n",
       "      <th>9</th>\n",
       "      <td></td>\n",
       "      <td></td>\n",
       "      <td>188</td>\n",
       "      <td></td>\n",
       "      <td></td>\n",
       "      <td></td>\n",
       "      <td></td>\n",
       "      <td></td>\n",
       "      <td></td>\n",
       "      <td></td>\n",
       "      <td></td>\n",
       "      <td></td>\n",
       "      <td>1</td>\n",
       "      <td>188</td>\n",
       "      <td>1684</td>\n",
       "      <td>0.1</td>\n",
       "    </tr>\n",
       "    <tr>\n",
       "      <th>Total</th>\n",
       "      <td>368</td>\n",
       "      <td>336</td>\n",
       "      <td>424</td>\n",
       "      <td>532</td>\n",
       "      <td>620</td>\n",
       "      <td>4272</td>\n",
       "      <td>1884</td>\n",
       "      <td>712</td>\n",
       "      <td>1768</td>\n",
       "      <td>716</td>\n",
       "      <td>396</td>\n",
       "      <td>304</td>\n",
       "      <td>84</td>\n",
       "      <td>12332</td>\n",
       "      <td>65848</td>\n",
       "      <td>0.16</td>\n",
       "    </tr>\n",
       "  </tbody>\n",
       "</table>\n",
       "</div>"
      ],
      "text/plain": [
       "Person    43   48   52   59   64    80    92   96   107  109  115  120  \\\n",
       "Session                                                                  \n",
       "0        140        72       244  1052   464         32        60  116   \n",
       "1             148       532   64   536   696             600             \n",
       "2                             64   484              848       220        \n",
       "3                                  484               60        56  188   \n",
       "4        228                 248   660   724  112   828        60        \n",
       "5             188                  792                   116             \n",
       "6                   44             264        512                        \n",
       "7                                                                        \n",
       "8                  120                         88                        \n",
       "9                  188                                                   \n",
       "Total    368  336  424  532  620  4272  1884  712  1768  716  396  304   \n",
       "\n",
       "Person   # of Persons   Pain  No Pain Pain %  \n",
       "Session                                       \n",
       "0                  12   2180    12424   0.15  \n",
       "1                  12   2576     8792   0.23  \n",
       "2                  11   1616     8756   0.16  \n",
       "3                  11    788     7696   0.09  \n",
       "4                  11   2860     7276   0.28  \n",
       "5                   9   1096     7380   0.13  \n",
       "6                   8    820     4852   0.14  \n",
       "7                   6            3788         \n",
       "8                   3    208     3200   0.06  \n",
       "9                   1    188     1684    0.1  \n",
       "Total              84  12332    65848   0.16  "
      ]
     },
     "execution_count": 68,
     "metadata": {},
     "output_type": "execute_result"
    }
   ],
   "source": [
    "pivot"
   ]
  },
  {
   "cell_type": "code",
   "execution_count": null,
   "metadata": {},
   "outputs": [],
   "source": []
  }
 ],
 "metadata": {
  "kernelspec": {
   "display_name": "FederatedLearning",
   "language": "python",
   "name": "federatedlearning"
  },
  "language_info": {
   "codemirror_mode": {
    "name": "ipython",
    "version": 3
   },
   "file_extension": ".py",
   "mimetype": "text/x-python",
   "name": "python",
   "nbconvert_exporter": "python",
   "pygments_lexer": "ipython3",
   "version": "3.7.2"
  }
 },
 "nbformat": 4,
 "nbformat_minor": 4
}
