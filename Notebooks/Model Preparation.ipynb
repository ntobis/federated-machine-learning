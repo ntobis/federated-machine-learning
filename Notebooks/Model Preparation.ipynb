{
 "cells": [
  {
   "cell_type": "markdown",
   "metadata": {},
   "source": [
    "# Model Preparation\n",
    "A notebook that aids the preparation of a CNN."
   ]
  },
  {
   "cell_type": "code",
   "execution_count": 11,
   "metadata": {},
   "outputs": [],
   "source": [
    "# Imports\n",
    "import os, sys\n",
    "import numpy as np\n",
    "import pandas as pd\n",
    "import tensorflow as tf\n",
    "from sklearn.metrics import confusion_matrix, average_precision_score, accuracy_score, precision_score, recall_score\n",
    "models = tf.keras.models  # like 'from tensorflow.keras import models' (PyCharm import issue workaround)\n",
    "layers = tf.keras.layers  # like 'from tensorflow.keras import layers' (PyCharm import issue workaround)\n",
    "optimizers = tf.keras.optimizers  # like 'from tensorflow.keras import optimizers' (PyCharm import issue workaround)\n",
    "\n",
    "module_path = os.path.abspath(os.path.join('..'))\n",
    "if module_path not in sys.path:\n",
    "    sys.path.append(module_path)\n",
    "\n",
    "from Scripts import Data_Loader_Functions as DL\n",
    "from Scripts import Centralized_Pain_CNN as painCNN"
   ]
  },
  {
   "cell_type": "code",
   "execution_count": 12,
   "metadata": {},
   "outputs": [],
   "source": [
    "def build_cnn(input_shape):\n",
    "    \"\"\"\n",
    "    Compile and return a simple CNN model for image recognition.\n",
    "\n",
    "    Configuration:\n",
    "    Layer 1: Convolution Layer | Filters: 32 | Kernel Size: 3x3 | Activation: Relu\n",
    "    Layer 2: Max Pooling Layer | Filter: 2x2\n",
    "    Layer 3: Dense Layer       | Neurons: 32 | Activation: Relu\n",
    "    Layer 4: Dense Layer       | Neurons: 10 | Activation: Softmax\n",
    "\n",
    "    Optimizer:      Adam\n",
    "    Loss function:  Sparse Categorical Cross Entropy\n",
    "    Loss metric:    Accuracy\n",
    "\n",
    "\n",
    "    :param input_shape:     image input shape (tuple), e.g. (28, 28, 1)\n",
    "\n",
    "    :return:\n",
    "        model               compiled tensorflow model\n",
    "    \"\"\"\n",
    "\n",
    "    # Set up model type\n",
    "    model = models.Sequential()\n",
    "\n",
    "    # Add layers\n",
    "    model.add(layers.Conv2D(32, (5, 5), input_shape=input_shape))\n",
    "    model.add(layers.MaxPooling2D((2, 2)))\n",
    "    model.add(layers.Conv2D(64, (5, 5)))\n",
    "    model.add(layers.MaxPooling2D((2, 2)))\n",
    "    model.add(layers.Conv2D(128, (5, 5)))\n",
    "    model.add(layers.MaxPooling2D((2, 2)))\n",
    "    model.add(layers.Flatten())\n",
    "    model.add(layers.Dense(128, activation='relu'))\n",
    "    model.add(layers.Dense(2, activation='softmax'))\n",
    "\n",
    "    return model"
   ]
  },
  {
   "cell_type": "code",
   "execution_count": 5,
   "metadata": {},
   "outputs": [
    {
     "name": "stdout",
     "output_type": "stream",
     "text": [
      "0 images processed\n",
      "0 images processed\n"
     ]
    }
   ],
   "source": [
    "# Load data\n",
    "path = os.path.join(module_path, 'Data', 'Augmented Data', 'Pain Two-Step Augmentation', 'group_1', 'p121')\n",
    "path_2 = os.path.join(module_path, 'Data', 'Augmented Data', 'Pain Two-Step Augmentation', 'group_2_test', 'p048')\n",
    "model = build_cnn((215, 215, 1))\n",
    "test_data, test_labels = DL.load_pain_data(path)\n",
    "test_data_2, test_labels_2 = DL.load_pain_data(path_2)\n",
    "test_data = np.concatenate((test_data, test_data_2))\n",
    "test_labels = np.concatenate((test_labels, test_labels_2))\n",
    "label = 4\n",
    "person = 0\n",
    "test_labels_ord = test_labels[:, label].astype(np.int)\n",
    "test_labels_bin = DL.reduce_pain_label_categories(test_labels_ord, max_pain=1)\n",
    "people = test_labels[:, person].astype(np.int)\n",
    "test_labels = test_labels_bin"
   ]
  },
  {
   "cell_type": "code",
   "execution_count": 7,
   "metadata": {},
   "outputs": [],
   "source": [
    "model.compile(optimizer='sgd', loss='sparse_categorical_crossentropy', metrics=['accuracy'])\n",
    "predictions = model.predict(test_data)\n",
    "loss = tf.keras.losses.SparseCategoricalCrossentropy()\n",
    "loss = loss(\n",
    "            tf.convert_to_tensor(tf.cast(test_labels, tf.float32)),\n",
    "            tf.convert_to_tensor(tf.cast(predictions, tf.float32))\n",
    "        ).numpy()\n",
    "\n",
    "y_pred = np.argmax(predictions, axis=1)"
   ]
  },
  {
   "cell_type": "code",
   "execution_count": 15,
   "metadata": {},
   "outputs": [],
   "source": [
    "def compute_aggregate_metrics(epoch, loss, test_labels, y_pred, predictions):\n",
    "    predictions = np.max(predictions, axis=1)\n",
    "\n",
    "    # Getting relevant metrics\n",
    "    accuracy = accuracy_score(test_labels, y_pred)\n",
    "    recall = recall_score(test_labels, y_pred)\n",
    "    precision = precision_score(test_labels, y_pred)\n",
    "    tn, fp, fn, tp = confusion_matrix(test_labels, y_pred).ravel()\n",
    "    group_avg_precision = average_precision_score(test_labels, predictions)\n",
    "    results = [epoch, loss, accuracy, recall, precision, group_avg_precision, tp, tn, fp, fn]\n",
    "    print(results)\n",
    "\n",
    "    # Create DF for Progress\n",
    "    df = pd.DataFrame([results], columns=['Epoch', 'Loss', 'Aggregate Accuracy', 'Aggregate Recall',\n",
    "                                        'Aggregate Precision', 'Aggregate Avg. Precision', 'TP', 'TN', 'FP', 'FN'])\n",
    "    df['Aggregate F1_Score'] = 2 * ((df['Aggregate Precision'] * df['Aggregate Recall']) / (df['Aggregate Precision'] +\n",
    "                                                                                            df['Aggregate Recall']))\n",
    "    return df\n"
   ]
  },
  {
   "cell_type": "code",
   "execution_count": 17,
   "metadata": {},
   "outputs": [
    {
     "name": "stdout",
     "output_type": "stream",
     "text": [
      "[1, 0.65701795, 0.6815816857440167, 0.0, 0.0, 0.2858647434577851, 0, 655, 14, 292]\n"
     ]
    }
   ],
   "source": [
    "df = compute_aggregate_metrics(1, loss, test_labels, y_pred, predictions)"
   ]
  },
  {
   "cell_type": "code",
   "execution_count": 18,
   "metadata": {},
   "outputs": [
    {
     "data": {
      "text/plain": [
       "Index(['Epoch', 'Loss', 'Aggregate Accuracy', 'Aggregate Recall',\n",
       "       'Aggregate Precision', 'Aggregate Avg. Precision', 'TP', 'TN', 'FP',\n",
       "       'FN', 'Aggregate F1_Score'],\n",
       "      dtype='object')"
      ]
     },
     "execution_count": 18,
     "metadata": {},
     "output_type": "execute_result"
    }
   ],
   "source": [
    "df.columns"
   ]
  },
  {
   "cell_type": "code",
   "execution_count": null,
   "metadata": {},
   "outputs": [],
   "source": []
  }
 ],
 "metadata": {
  "kernelspec": {
   "display_name": "FederatedLearning",
   "language": "python",
   "name": "federatedlearning"
  },
  "language_info": {
   "codemirror_mode": {
    "name": "ipython",
    "version": 3
   },
   "file_extension": ".py",
   "mimetype": "text/x-python",
   "name": "python",
   "nbconvert_exporter": "python",
   "pygments_lexer": "ipython3",
   "version": "3.7.2"
  }
 },
 "nbformat": 4,
 "nbformat_minor": 2
}
