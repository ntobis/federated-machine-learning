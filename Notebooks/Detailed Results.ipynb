{
 "cells": [
  {
   "cell_type": "code",
   "execution_count": 2,
   "metadata": {},
   "outputs": [],
   "source": [
    "import pandas as pd\n",
    "import numpy as np\n",
    "import os, sys\n",
    "import cv2\n",
    "import matplotlib.pyplot as plt\n",
    "import copy\n",
    "import tensorflow as tf\n",
    "from io import StringIO # Python3 use: from io import StringIO\n",
    "import seaborn as sns\n",
    "\n",
    "models = tf.keras.models  # like 'from tensorflow.keras import models' (PyCharm import issue workaround)\n",
    "layers = tf.keras.layers  # like 'from tensorflow.keras import layers' (PyCharm import issue workaround)\n",
    "\n",
    "module_path = os.path.abspath(os.path.join('..'))\n",
    "if module_path not in sys.path:\n",
    "    sys.path.append(module_path)\n",
    "\n",
    "DATA = os.path.join(module_path, 'Data', 'Augmented Data')\n",
    "RESULTS = os.path.join(module_path, 'Results', 'Thesis')\n",
    "FIGURES = os.path.join(module_path, 'Figures', 'Thesis')\n",
    "from Scripts import Data_Loader_Functions as DL\n",
    "from Scripts import Model_Architectures as mA\n",
    "from Scripts import Results_Evaluation as rE"
   ]
  },
  {
   "cell_type": "code",
   "execution_count": 4,
   "metadata": {},
   "outputs": [],
   "source": [
    "# Define experiment names\n",
    "exp_names = {\n",
    "    '0-sessions-Baseline-random': 'RANDOM',\n",
    "    '0-sessions-Baseline-central-pre-training': 'BCDL',\n",
    "    '0-sessions-Baseline-federated-pre-training': 'BF-CNN',\n",
    "    '1-sessions-Centralized-no-pre-training': 'C-CNN (N)',\n",
    "    '10-sessions-Federated-central-pre-training-local-models': 'LDL',\n",
    "    '11-sessions-Federated-federated-pre-training-local-models': 'FL-CNN (F)',\n",
    "    '2-sessions-Centralized-pre-training': 'CDL',\n",
    "    '3-sessions-Federated-no-pre-training': 'F-CNN (N)',\n",
    "    '4-sessions-Federated-central-pre-training': 'FDL',\n",
    "    '5-sessions-Federated-federated-pre-training': 'F-CNN (F)',\n",
    "    '6-sessions-Federated-no-pre-training-personalization': 'FP-CNN (N)',\n",
    "    '7-sessions-Federated-central-pre-training-personalization': 'PFDL',\n",
    "    '8-sessions-Federated-federated-pre-training-personalization': 'FP-CNN (F)',\n",
    "    '9-sessions-Federated-no-pre-training-local-models': 'FL-CNN (N)'\n",
    "}"
   ]
  },
  {
   "cell_type": "code",
   "execution_count": 111,
   "metadata": {},
   "outputs": [],
   "source": [
    "top_exp = ['BCDL', 'CDL', 'LDL', 'FDL', 'PFDL']\n",
    "subjects = DL.create_pain_df(os.path.join(DATA, 'group_2'))['Person'].unique()"
   ]
  },
  {
   "cell_type": "code",
   "execution_count": 23,
   "metadata": {},
   "outputs": [],
   "source": [
    "folders = [os.path.join(RESULTS, file) for file in os.listdir(RESULTS) if 'Seed' in file]\n",
    "folders.sort()"
   ]
  },
  {
   "cell_type": "code",
   "execution_count": 128,
   "metadata": {},
   "outputs": [],
   "source": [
    "df_concat = pd.DataFrame()\n",
    "for folder in folders:\n",
    "    files = [file for file in os.listdir(folder) if os.path.isfile(os.path.join(folder, file))]\n",
    "    files.sort()\n",
    "\n",
    "    for file in files:\n",
    "        model_name = exp_names[file.split('_TEST')[0].split('PAIN_')[1]]\n",
    "        if model_name in top_exp:\n",
    "            f_path = os.path.join(folder, file)\n",
    "            df = pd.read_csv(f_path)\n",
    "            df['Model'] = model_name\n",
    "            \n",
    "            for subject in subjects:\n",
    "\n",
    "                cols = [col for col in df.columns if 'subject_{}'.format(subject) in col or 'Model' in col]\n",
    "                df_copy = df[cols].copy()\n",
    "                df_copy['subject'] = subject\n",
    "                df_copy.reset_index(inplace=True)\n",
    "                df_copy.rename(columns={'index': 'Session'}, inplace=True)\n",
    "                new_cols = [col.split('subject_{}_'.format(subject))[1] for col in cols if 'subject' in col]\n",
    "                df_copy.rename(columns=dict(zip(cols, new_cols)), inplace=True)\n",
    "                df_copy.rename(columns={'subject': 'Subject'}, inplace=True)\n",
    "                df_copy['Seed'] = int(folder.split('Seed ')[1])\n",
    "                \n",
    "                df_concat = pd.concat((df_concat, df_copy))"
   ]
  },
  {
   "cell_type": "code",
   "execution_count": 130,
   "metadata": {},
   "outputs": [],
   "source": [
    "df_concat = df_concat[['Seed', 'Subject', 'Model', 'Session', 'accuracy', 'auc', 'false_negatives', 'false_positives',\n",
    "       'loss', 'pr', 'precision', 'recall', 'true_negatives', 'true_positives',\n",
    "       ]]"
   ]
  },
  {
   "cell_type": "code",
   "execution_count": 136,
   "metadata": {},
   "outputs": [],
   "source": [
    "df_concat['f1_score'] = 2 * df_concat['recall'] * df_concat['precision'] / (df_concat['recall'] + df_concat['precision'])"
   ]
  },
  {
   "cell_type": "code",
   "execution_count": 138,
   "metadata": {},
   "outputs": [],
   "source": [
    "df_concat.to_csv('Detailed Results.csv')"
   ]
  },
  {
   "cell_type": "code",
   "execution_count": 145,
   "metadata": {},
   "outputs": [
    {
     "data": {
      "text/plain": [
       "198675.0"
      ]
     },
     "execution_count": 145,
     "metadata": {},
     "output_type": "execute_result"
    }
   ],
   "source": [
    "df_concat[['false_negatives', 'false_positives', 'true_negatives', 'true_positives']].sum().sum() / 4 / 4"
   ]
  },
  {
   "cell_type": "code",
   "execution_count": null,
   "metadata": {},
   "outputs": [],
   "source": []
  }
 ],
 "metadata": {
  "kernelspec": {
   "display_name": "FederatedLearning",
   "language": "python",
   "name": "federatedlearning"
  },
  "language_info": {
   "codemirror_mode": {
    "name": "ipython",
    "version": 3
   },
   "file_extension": ".py",
   "mimetype": "text/x-python",
   "name": "python",
   "nbconvert_exporter": "python",
   "pygments_lexer": "ipython3",
   "version": "3.7.2"
  }
 },
 "nbformat": 4,
 "nbformat_minor": 4
}
