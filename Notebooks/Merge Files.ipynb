{
 "cells": [
  {
   "cell_type": "code",
   "execution_count": 1,
   "metadata": {},
   "outputs": [],
   "source": [
    "import pandas as pd\n",
    "import numpy as np\n",
    "import os, sys\n",
    "import cv2\n",
    "import matplotlib.pyplot as plt\n",
    "import copy\n",
    "import tensorflow as tf\n",
    "from io import StringIO # Python3 use: from io import StringIO\n",
    "import seaborn as sns\n",
    "\n",
    "models = tf.keras.models  # like 'from tensorflow.keras import models' (PyCharm import issue workaround)\n",
    "layers = tf.keras.layers  # like 'from tensorflow.keras import layers' (PyCharm import issue workaround)\n",
    "\n",
    "module_path = os.path.abspath(os.path.join('..'))\n",
    "if module_path not in sys.path:\n",
    "    sys.path.append(module_path)\n",
    "\n",
    "DATA = os.path.join(module_path, 'Data', 'Augmented Data')\n",
    "RESULTS = os.path.join(module_path, 'Results', 'Thesis')\n",
    "FIGURES = os.path.join(module_path, 'Figures', 'Thesis')\n",
    "from Scripts import Data_Loader_Functions as dL\n",
    "from Scripts import Model_Architectures as mA\n",
    "from Scripts import Results_Evaluation as rE\n",
    "from Scripts import Print_Functions as pF"
   ]
  },
  {
   "cell_type": "code",
   "execution_count": 13,
   "metadata": {},
   "outputs": [],
   "source": [
    "GROUP_2_PATH = os.path.join(DATA, \"group_2\")\n",
    "CENTRAL_MODELS = os.path.join(module_path, 'Pain', 'Centralized')\n",
    "FEDERATED_MODELS = os.path.join(module_path, 'Pain', 'Federated')"
   ]
  },
  {
   "cell_type": "code",
   "execution_count": 14,
   "metadata": {},
   "outputs": [],
   "source": [
    "results_path = os.path.join(module_path, 'Results')"
   ]
  },
  {
   "cell_type": "code",
   "execution_count": 15,
   "metadata": {},
   "outputs": [],
   "source": [
    "BCDL_df = pd.read_csv(os.path.join(results_path, 'BCDL.csv')).drop(columns=['Unnamed: 0'])\n",
    "CDL_df = pd.read_csv(os.path.join(results_path, 'CDL.csv')).drop(columns=['Unnamed: 0'])\n",
    "FDL_df = pd.read_csv(os.path.join(results_path, 'FDL.csv')).drop(columns=['Unnamed: 0'])\n",
    "LDL_df = pd.read_csv(os.path.join(results_path, 'LDL.csv')).drop(columns=['Unnamed: 0'])\n",
    "PFDL_df = pd.read_csv(os.path.join(results_path, 'PFDL.csv')).drop(columns=['Unnamed: 0'])"
   ]
  },
  {
   "cell_type": "code",
   "execution_count": 16,
   "metadata": {},
   "outputs": [],
   "source": [
    "session_0 = BCDL_df[BCDL_df['Session'] == 0]"
   ]
  },
  {
   "cell_type": "code",
   "execution_count": 17,
   "metadata": {},
   "outputs": [],
   "source": [
    "FDL_df = pd.concat((FDL_df, session_0.rename(columns={'BCDL': 'FDL'})))\n",
    "LDL_df = pd.concat((LDL_df, session_0.rename(columns={'BCDL': 'LDL'})))\n",
    "PFDL_df = pd.concat((PFDL_df, session_0.rename(columns={'BCDL': 'PFDL'})))"
   ]
  },
  {
   "cell_type": "code",
   "execution_count": 18,
   "metadata": {},
   "outputs": [],
   "source": [
    "concat_df = BCDL_df.merge(CDL_df, how='inner', on=['Subject ID', 'Session', 'Frame', 'True Label', 'Seed'])\n",
    "concat_df = concat_df.merge(FDL_df, how='inner', on=['Subject ID', 'Session', 'Frame', 'True Label', 'Seed'])\n",
    "concat_df = concat_df.merge(LDL_df, how='inner', on=['Subject ID', 'Session', 'Frame', 'True Label', 'Seed'])\n",
    "concat_df = concat_df.merge(PFDL_df, how='inner', on=['Subject ID', 'Session', 'Frame', 'True Label', 'Seed'])"
   ]
  },
  {
   "cell_type": "code",
   "execution_count": 24,
   "metadata": {},
   "outputs": [],
   "source": [
    "concat_df = concat_df[['Seed', 'Session', 'Subject ID', 'Frame', 'True Label', 'BCDL', 'CDL', 'FDL', 'LDL', 'PFDL']]"
   ]
  },
  {
   "cell_type": "code",
   "execution_count": 28,
   "metadata": {},
   "outputs": [],
   "source": [
    "concat_df = concat_df.sort_values(['Seed', 'Session', 'Subject ID', 'Frame'])"
   ]
  },
  {
   "cell_type": "code",
   "execution_count": 30,
   "metadata": {},
   "outputs": [],
   "source": [
    "concat_df.to_csv('Concatenated.csv')"
   ]
  },
  {
   "cell_type": "markdown",
   "metadata": {},
   "source": [
    "# Evaluation"
   ]
  },
  {
   "cell_type": "code",
   "execution_count": 32,
   "metadata": {},
   "outputs": [],
   "source": [
    "df = pd.read_csv('Concatenated.csv')\n",
    "df['True Label'] = np.minimum(df['True Label'], 1)\n",
    "columns = ['BCDL', 'CDL', 'FDL', 'LDL', 'PFDL']"
   ]
  },
  {
   "cell_type": "code",
   "execution_count": 33,
   "metadata": {},
   "outputs": [],
   "source": [
    "res_columns = [col + '_pred' for col in columns]\n",
    "df = pd.concat((df, (df[columns] > 0.5).astype(int).rename(columns=dict(zip(columns, res_columns)))), axis=1)"
   ]
  },
  {
   "cell_type": "code",
   "execution_count": 35,
   "metadata": {},
   "outputs": [],
   "source": [
    "from sklearn.metrics.classification import confusion_matrix"
   ]
  },
  {
   "cell_type": "code",
   "execution_count": 74,
   "metadata": {},
   "outputs": [],
   "source": [
    "conf_m = np.array([confusion_matrix(sd_df['True Label'], sd_df['BCDL_pred']) for _, sd_df in df.groupby('Seed')])"
   ]
  },
  {
   "cell_type": "code",
   "execution_count": 82,
   "metadata": {},
   "outputs": [
    {
     "data": {
      "text/plain": [
       "array([[13906.9,  2555.1],\n",
       "       [ 1446.3,  1636.7]])"
      ]
     },
     "execution_count": 82,
     "metadata": {},
     "output_type": "execute_result"
    }
   ],
   "source": [
    "conf_m.mean(axis=0)"
   ]
  },
  {
   "cell_type": "code",
   "execution_count": null,
   "metadata": {},
   "outputs": [],
   "source": []
  }
 ],
 "metadata": {
  "kernelspec": {
   "display_name": "FederatedLearning",
   "language": "python",
   "name": "federatedlearning"
  },
  "language_info": {
   "codemirror_mode": {
    "name": "ipython",
    "version": 3
   },
   "file_extension": ".py",
   "mimetype": "text/x-python",
   "name": "python",
   "nbconvert_exporter": "python",
   "pygments_lexer": "ipython3",
   "version": "3.7.2"
  }
 },
 "nbformat": 4,
 "nbformat_minor": 4
}
