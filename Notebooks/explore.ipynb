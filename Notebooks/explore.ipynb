{
 "cells": [
  {
   "cell_type": "code",
   "execution_count": 30,
   "metadata": {},
   "outputs": [],
   "source": [
    "# Imports\n",
    "from __future__ import absolute_import, division, print_function, unicode_literals\n",
    "\n",
    "import matplotlib.pyplot as plt\n",
    "import tensorflow as tf\n",
    "\n",
    "models = tf.keras.models  # like from tensorflow.keras import models (PyCharm import issue workaround)\n",
    "layers = tf.keras.layers  # like from tensorflow.keras import layers (PyCharm import issue workaround)\n",
    "\n",
    "\n",
    "def load_data():\n",
    "    (train_images, train_labels), (test_images, test_labels) = tf.keras.datasets.mnist.load_data()\n",
    "\n",
    "    train_images = train_images.reshape((60000, 28, 28, 1))\n",
    "    test_images = test_images.reshape((10000, 28, 28, 1))\n",
    "\n",
    "    # Normalize pixel values to be between 0 and 1\n",
    "    train_images, test_images = train_images / 255.0, test_images / 255.0\n",
    "\n",
    "    return train_images, train_labels, test_images, test_labels\n",
    "\n",
    "\n",
    "def display_images(train_data, train_labels):\n",
    "    train_data = tf.reshape(train_data, [60000, 28, 28])\n",
    "    # Display Digits\n",
    "    fig = plt.figure()\n",
    "    for i in range(9):\n",
    "        plt.subplot(3, 3, i + 1)\n",
    "        plt.tight_layout()\n",
    "        plt.imshow(train_data[i], cmap='gray', interpolation='none')\n",
    "        plt.title(\"Digit: {}\".format(train_labels[i]))\n",
    "        plt.xticks([])\n",
    "        plt.yticks([])\n",
    "    plt.show()\n",
    "\n",
    "\n",
    "def build_cnn():\n",
    "\n",
    "    # Set up model type\n",
    "    model = models.Sequential()\n",
    "\n",
    "    # Add layers, inspired by https://www.tensorflow.org/beta/tutorials/images/intro_to_cnns\n",
    "    model.add(layers.Conv2D(32, (3, 3), activation='relu', input_shape=(28, 28, 1)))\n",
    "    model.add(layers.MaxPooling2D((2, 2)))\n",
    "    model.add(layers.Conv2D(64, (3, 3), activation='relu'))\n",
    "    model.add(layers.MaxPooling2D((2, 2)))\n",
    "    model.add(layers.Conv2D(64, (3, 3), activation='relu'))\n",
    "    model.add(layers.Flatten())\n",
    "    model.add(layers.Dense(64, activation='relu'))\n",
    "    model.add(layers.Dense(10, activation='softmax'))\n",
    "\n",
    "    # Compile the model\n",
    "    model.compile(optimizer='adam',\n",
    "                  loss='sparse_categorical_crossentropy',\n",
    "                  metrics=['accuracy'])\n",
    "\n",
    "    return model\n",
    "\n",
    "\n",
    "def train_cnn(model, train_images, train_labels):\n",
    "    model.fit(train_images, train_labels, epochs=2, batch_size=5000)\n",
    "    return model\n",
    "\n",
    "\n",
    "def evaluate_cnn(model, test_images, test_labels):\n",
    "    test_loss, test_acc = model.evaluate(test_images, test_labels)\n",
    "    return test_loss, test_acc\n",
    "\n",
    "\n",
    "def plot_accuracy(model):\n",
    "    # Plot training & validation accuracy values\n",
    "    try:\n",
    "        plt.plot(model.history.history['accuracy'])\n",
    "    except KeyError:\n",
    "        plt.plot(model.history.history['acc'])\n",
    "#     plt.plot(model.history['val_acc'])\n",
    "    plt.title('Model accuracy')\n",
    "    plt.ylabel('Accuracy')\n",
    "    plt.xlabel('Epoch')\n",
    "    plt.legend(['Train', 'Test'], loc='upper left')\n",
    "    plt.show()\n",
    "\n",
    "\n",
    "def plot_loss(model):\n",
    "    # Plot training & validation loss values\n",
    "    plt.plot(model.history.history['loss'])\n",
    "#     plt.plot(model.history.history['val_loss'])\n",
    "    plt.title('Model loss')\n",
    "    plt.ylabel('Loss')\n",
    "    plt.xlabel('Epoch')\n",
    "    plt.legend(['Train', 'Test'], loc='upper left')\n",
    "    plt.show()"
   ]
  },
  {
   "cell_type": "code",
   "execution_count": 4,
   "metadata": {},
   "outputs": [
    {
     "name": "stdout",
     "output_type": "stream",
     "text": [
      "WARNING:tensorflow:From /Library/Frameworks/Python.framework/Versions/3.7/lib/python3.7/site-packages/tensorflow/python/ops/resource_variable_ops.py:435: colocate_with (from tensorflow.python.framework.ops) is deprecated and will be removed in a future version.\n",
      "Instructions for updating:\n",
      "Colocations handled automatically by placer.\n",
      "Epoch 1/2\n",
      "60000/60000 [==============================] - 24s 399us/sample - loss: 2.0100 - acc: 0.5363\n",
      "Epoch 2/2\n",
      "60000/60000 [==============================] - 23s 384us/sample - loss: 0.8290 - acc: 0.7962\n",
      "10000/10000 [==============================] - 1s 108us/sample - loss: 0.4803 - acc: 0.8530\n",
      "Test Accuracy:  0.853\n",
      "Test Loss:  0.4803491915345192\n"
     ]
    }
   ],
   "source": [
    "# Load data\n",
    "train_images, train_labels, test_images, test_labels = load_data()\n",
    "\n",
    "# Train model\n",
    "model = build_cnn()\n",
    "model = train_cnn(model, train_images, train_labels)\n",
    "\n",
    "# Evaluate model\n",
    "test_loss, test_acc = evaluate_cnn(model, test_images, test_labels)\n",
    "print(\"Test Accuracy: \", test_acc)\n",
    "print(\"Test Loss: \", test_loss)"
   ]
  },
  {
   "cell_type": "code",
   "execution_count": 31,
   "metadata": {},
   "outputs": [
    {
     "data": {
      "text/plain": [
       "{'loss': [2.009982854127884, 0.829040085275968],\n",
       " 'acc': [0.5363167, 0.79618335]}"
      ]
     },
     "execution_count": 31,
     "metadata": {},
     "output_type": "execute_result"
    }
   ],
   "source": [
    "model.history.history"
   ]
  },
  {
   "cell_type": "code",
   "execution_count": 32,
   "metadata": {},
   "outputs": [
    {
     "data": {
      "image/png": "[encoded data removed]",
      "text/plain": [
       "<Figure size 432x288 with 1 Axes>"
      ]
     },
     "metadata": {
      "needs_background": "light"
     },
     "output_type": "display_data"
    }
   ],
   "source": [
    "plot_accuracy(model)"
   ]
  },
  {
   "cell_type": "code",
   "execution_count": 25,
   "metadata": {},
   "outputs": [
    {
     "name": "stdout",
     "output_type": "stream",
     "text": [
      "10000/10000 [==============================] - 2s 227us/sample - loss: 0.4803 - acc: 0.8530\n",
      "Test Accuracy:  0.853\n",
      "Test Loss:  0.4803491915345192\n"
     ]
    }
   ],
   "source": [
    "test_loss, test_acc = evaluate_cnn(model, test_images, test_labels)\n",
    "print(\"Test Accuracy: \", test_acc)\n",
    "print(\"Test Loss: \", test_loss)"
   ]
  },
  {
   "cell_type": "code",
   "execution_count": null,
   "metadata": {},
   "outputs": [],
   "source": []
  }
 ],
 "metadata": {
  "kernelspec": {
   "display_name": "Python 3",
   "language": "python",
   "name": "python3"
  },
  "language_info": {
   "codemirror_mode": {
    "name": "ipython",
    "version": 3
   },
   "file_extension": ".py",
   "mimetype": "text/x-python",
   "name": "python",
   "nbconvert_exporter": "python",
   "pygments_lexer": "ipython3",
   "version": "3.7.2"
  }
 },
 "nbformat": 4,
 "nbformat_minor": 1
}
