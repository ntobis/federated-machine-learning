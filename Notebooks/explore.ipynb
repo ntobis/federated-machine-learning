{
 "cells": [
  {
   "cell_type": "code",
   "execution_count": 160,
   "metadata": {},
   "outputs": [],
   "source": [
    "import os\n",
    "import matplotlib.pyplot as plt\n",
    "\n",
    "import cv2\n",
    "import tensorflow as tf\n",
    "import numpy as np\n",
    "\n",
    "ROOT = \"/Users/nico/PycharmProjects/FederatedLearning\""
   ]
  },
  {
   "cell_type": "code",
   "execution_count": 119,
   "metadata": {},
   "outputs": [],
   "source": [
    "def load_and_preprocess_image(path):\n",
    "    \"\"\"\n",
    "    Utility function loading an image, converting it into greyscale, and performing histogram equilization\n",
    "\n",
    "    :param path:                    string, path for an image\n",
    "    :return:\n",
    "    \"\"\"\n",
    "\n",
    "    img = cv2.imread(path, 0)  # Load image into greyscale\n",
    "    img = cv2.equalizeHist(img)  # Histogram equilization\n",
    "    return img\n",
    "\n",
    "\n",
    "def bulk_process_images(inputpath, outputpath, extension):\n",
    "    \"\"\"\n",
    "    Utility function processing all images in a given directory.\n",
    "\n",
    "    :param inputpath:               string, input path\n",
    "    :param outputpath:              string, output path\n",
    "    :param extension:               string, extension of the images\n",
    "    :return:\n",
    "    \"\"\"\n",
    "\n",
    "    for dirpath, dirnames, filenames in os.walk(inputpath):\n",
    "        structure = os.path.join(outputpath, dirpath[len(inputpath) + 1:])\n",
    "        for file in filenames:\n",
    "            if file.endswith(extension):\n",
    "                src = os.path.join(dirpath, file)\n",
    "                dest = os.path.join(structure, file)\n",
    "                img = load_and_preprocess_image(src)\n",
    "                cv2.imwrite(dest, img)"
   ]
  },
  {
   "cell_type": "code",
   "execution_count": 137,
   "metadata": {},
   "outputs": [],
   "source": [
    "def bulk_augment_images(input_path, output_path, extension, augmentation, label_type, label_threshold=-1):\n",
    "    for dir_path, dir_names, filenames in os.walk(input_path):\n",
    "        structure = os.path.join(output_path, dir_path[len(input_path) + 1:])\n",
    "        for file in filenames:\n",
    "            if file.endswith(extension):\n",
    "                src = os.path.join(dir_path, file)\n",
    "                label = get_labels([src], label_type)[0]\n",
    "                if label > label_threshold:\n",
    "                    img = cv2.imread(src, 0)\n",
    "                    f_name, f_ext = os.path.splitext(file)\n",
    "                    if augmentation == 'flip':\n",
    "                        img = np.flip(img, axis=-1)\n",
    "                        file = f_name + \"_flipped\" + f_ext\n",
    "                    elif augmentation == 'original':\n",
    "                        file = f_name + \"_original\" + f_ext\n",
    "                    else:\n",
    "                        raise ValueError(\n",
    "                            \"Invalid value for 'augmentation'. Value can be 'flip' or 'original', value was: {}\".format(augmentation))\n",
    "                    dest = os.path.join(structure, file)\n",
    "                    cv2.imwrite(dest, img)"
   ]
  },
  {
   "cell_type": "code",
   "execution_count": 134,
   "metadata": {},
   "outputs": [
    {
     "name": "stdout",
     "output_type": "stream",
     "text": [
      "Folder does already exits!\n",
      "Folder does already exits!\n",
      "Folder does already exits!\n",
      "Folder does already exits!\n",
      "Folder does already exits!\n",
      "Folder does already exits!\n",
      "Folder does already exits!\n",
      "Folder does already exits!\n",
      "Folder does already exits!\n",
      "Folder does already exits!\n",
      "Folder does already exits!\n",
      "Folder does already exits!\n",
      "Folder does already exits!\n",
      "Folder does already exits!\n",
      "Folder does already exits!\n",
      "Folder does already exits!\n",
      "Folder does already exits!\n",
      "Folder does already exits!\n",
      "Folder does already exits!\n",
      "Folder does already exits!\n",
      "Folder does already exits!\n",
      "Folder does already exits!\n",
      "Folder does already exits!\n",
      "Folder does already exits!\n",
      "Folder does already exits!\n",
      "Folder does already exits!\n",
      "Folder does already exits!\n",
      "Folder does already exits!\n"
     ]
    }
   ],
   "source": [
    "# Flip Images\n",
    "in_ = \"/Users/nico/PycharmProjects/FederatedLearning/Data/Preprocessed Data/Pain\"\n",
    "out = '/Users/nico/PycharmProjects/FederatedLearning/Data/Augmented Data/Pain'\n",
    "mirror_folder_structure(in_, out)\n",
    "bulk_augment_images(in_, out, extension='.jpg', augmentation='original', label_type='pain')\n",
    "bulk_augment_images(in_, out, extension='.jpg', augmentation='flipped', label_type='pain')"
   ]
  },
  {
   "cell_type": "code",
   "execution_count": 135,
   "metadata": {},
   "outputs": [],
   "source": [
    "img_paths = get_image_paths('/Users/nico/PycharmProjects/FederatedLearning/Data/Augmented Data/Pain')\n",
    "labels = get_labels(img_paths, label_type='pain')"
   ]
  },
  {
   "cell_type": "code",
   "execution_count": 143,
   "metadata": {},
   "outputs": [],
   "source": [
    "img_paths = get_image_paths('/Users/nico/PycharmProjects/FederatedLearning/Data/Preprocessed Data/Pain')\n",
    "labels = get_labels(img_paths)"
   ]
  },
  {
   "cell_type": "code",
   "execution_count": 146,
   "metadata": {},
   "outputs": [
    {
     "data": {
      "text/plain": [
       "(48106, 5)"
      ]
     },
     "execution_count": 146,
     "metadata": {},
     "output_type": "execute_result"
    }
   ],
   "source": [
    "np.array(labels).shape"
   ]
  },
  {
   "cell_type": "code",
   "execution_count": 141,
   "metadata": {},
   "outputs": [
    {
     "data": {
      "text/plain": [
       "(array([0, 1]), array([39846,  8260]))"
      ]
     },
     "execution_count": 141,
     "metadata": {},
     "output_type": "execute_result"
    }
   ],
   "source": [
    "labels = reduce_pain_label_categories(labels, 1)\n",
    "np.unique(labels, return_counts=True)"
   ]
  },
  {
   "cell_type": "code",
   "execution_count": null,
   "metadata": {},
   "outputs": [],
   "source": []
  },
  {
   "cell_type": "code",
   "execution_count": null,
   "metadata": {},
   "outputs": [],
   "source": []
  }
 ],
 "metadata": {
  "kernelspec": {
   "display_name": "Python 3",
   "language": "python",
   "name": "python3"
  },
  "language_info": {
   "codemirror_mode": {
    "name": "ipython",
    "version": 3
   },
   "file_extension": ".py",
   "mimetype": "text/x-python",
   "name": "python",
   "nbconvert_exporter": "python",
   "pygments_lexer": "ipython3",
   "version": "3.7.2"
  }
 },
 "nbformat": 4,
 "nbformat_minor": 1
}
