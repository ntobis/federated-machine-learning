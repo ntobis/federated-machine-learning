{
 "cells": [
  {
   "cell_type": "code",
   "execution_count": 20,
   "metadata": {},
   "outputs": [],
   "source": [
    "import os\n",
    "import matplotlib.pyplot as plt\n",
    "\n",
    "import cv2\n",
    "import tensorflow as tf\n",
    "import numpy as np\n",
    "\n",
    "ROOT = \"/Users/nicolastobis/PycharmProjects/federated-machine-learning\"\n",
    "DATA = os.path.join(ROOT, \"Data\")\n",
    "RAW_DATA = os.path.join(DATA, \"Raw Data\")\n",
    "RAW_PAIN_DATA = os.path.join(RAW_DATA, \"Pain\")\n",
    "RAW_PAIN_TRAINING_DATA = os.path.join(RAW_PAIN_DATA, \"training\")\n",
    "RAW_PAIN_TEST_DATA = os.path.join(RAW_PAIN_DATA, \"test\")\n",
    "PREPROCESSED_DATA = os.path.join(DATA, \"Preprocessed Data\")\n",
    "PREPROCESSED_PAIN_DATA = os.path.join(PREPROCESSED_DATA, \"Pain\")\n",
    "PREPROCESSED_PAIN_TRAINING_DATA = os.path.join(PREPROCESSED_PAIN_DATA, \"training\")\n",
    "PREPROCESSED_PAIN_TEST_DATA = os.path.join(PREPROCESSED_PAIN_DATA, \"test\")"
   ]
  },
  {
   "cell_type": "code",
   "execution_count": 21,
   "metadata": {},
   "outputs": [],
   "source": [
    "def preprocess_image(image, dimensions=None):\n",
    "    image = tf.image.decode_jpeg(image, channels=1)\n",
    "    dim = dimensions if dimensions else image.shape\n",
    "    image = tf.image.resize(image, [192, 192])\n",
    "    image /= 255.0\n",
    "    return image"
   ]
  },
  {
   "cell_type": "code",
   "execution_count": 22,
   "metadata": {},
   "outputs": [],
   "source": [
    "def load_and_preprocess_image(path):\n",
    "    img = cv2.imread(path, 0)       # Load image into greyscale\n",
    "    img = cv2.equalizeHist(img)     # Histogram equilization\n",
    "    return img"
   ]
  },
  {
   "cell_type": "code",
   "execution_count": 23,
   "metadata": {},
   "outputs": [],
   "source": [
    "def mirror_folder_structure(inputpath, outputpath):\n",
    "    for dirpath, dirnames, filenames in os.walk(inputpath):\n",
    "        structure = os.path.join(outputpath, dirpath[len(inputpath)+1:])\n",
    "        if not os.path.isdir(structure):\n",
    "            os.mkdir(structure)\n",
    "        else:\n",
    "            print(\"Folder does already exits!\")"
   ]
  },
  {
   "cell_type": "code",
   "execution_count": 24,
   "metadata": {},
   "outputs": [],
   "source": [
    "def bulk_process_images(inputpath, outputpath, extension):\n",
    "    for dirpath, dirnames, filenames in os.walk(inputpath):\n",
    "        structure = os.path.join(outputpath, dirpath[len(inputpath)+1:])\n",
    "        for file in filenames:\n",
    "            if file.endswith(extension):\n",
    "                src = os.path.join(dirpath, file)\n",
    "                dest = os.path.join(structure, file)\n",
    "                img = load_and_preprocess_image(src)\n",
    "                cv2.imwrite(dest,img)"
   ]
  },
  {
   "cell_type": "code",
   "execution_count": 25,
   "metadata": {},
   "outputs": [
    {
     "name": "stdout",
     "output_type": "stream",
     "text": [
      "Folder does already exits!\n",
      "Folder does already exits!\n",
      "Folder does already exits!\n",
      "Folder does already exits!\n",
      "Folder does already exits!\n",
      "Folder does already exits!\n",
      "Folder does already exits!\n",
      "Folder does already exits!\n",
      "Folder does already exits!\n",
      "Folder does already exits!\n",
      "Folder does already exits!\n",
      "Folder does already exits!\n",
      "Folder does already exits!\n",
      "Folder does already exits!\n",
      "Folder does already exits!\n",
      "Folder does already exits!\n",
      "Folder does already exits!\n",
      "Folder does already exits!\n",
      "Folder does already exits!\n",
      "Folder does already exits!\n",
      "Folder does already exits!\n",
      "Folder does already exits!\n",
      "Folder does already exits!\n",
      "Folder does already exits!\n",
      "Folder does already exits!\n",
      "Folder does already exits!\n",
      "Folder does already exits!\n",
      "Folder does already exits!\n"
     ]
    }
   ],
   "source": [
    "mirror_folder_structure(RAW_PAIN_DATA, PREPROCESSED_PAIN_DATA)\n",
    "bulk_process_images(RAW_PAIN_DATA, PREPROCESSED_PAIN_DATA, \".jpg\")"
   ]
  },
  {
   "cell_type": "code",
   "execution_count": null,
   "metadata": {},
   "outputs": [],
   "source": [
    "image = load_and_preprocess_image(picture_1)"
   ]
  },
  {
   "cell_type": "code",
   "execution_count": null,
   "metadata": {},
   "outputs": [],
   "source": [
    "plt.gray()\n",
    "plt.imshow(image)"
   ]
  },
  {
   "cell_type": "code",
   "execution_count": null,
   "metadata": {},
   "outputs": [],
   "source": []
  }
 ],
 "metadata": {
  "kernelspec": {
   "display_name": "Python 3",
   "language": "python",
   "name": "python3"
  },
  "language_info": {
   "codemirror_mode": {
    "name": "ipython",
    "version": 3
   },
   "file_extension": ".py",
   "mimetype": "text/x-python",
   "name": "python",
   "nbconvert_exporter": "python",
   "pygments_lexer": "ipython3",
   "version": "3.7.3"
  }
 },
 "nbformat": 4,
 "nbformat_minor": 1
}
