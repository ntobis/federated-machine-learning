{
 "cells": [
  {
   "cell_type": "code",
   "execution_count": 13,
   "metadata": {},
   "outputs": [],
   "source": [
    "import numpy as np"
   ]
  },
  {
   "cell_type": "code",
   "execution_count": 14,
   "metadata": {},
   "outputs": [],
   "source": [
    "train_data = np.random.randint(0, 100, size=(10, 215, 215, 1))\n",
    "train_labels = np.eye(2)[np.random.randint(0, 2, size=(10, 1)).reshape(-1)]\n",
    "people = [2, 2, 3, 3, 4, 4, 6, 7, 9 , 0]\n"
   ]
  },
  {
   "cell_type": "code",
   "execution_count": 65,
   "metadata": {},
   "outputs": [],
   "source": [
    "def split_clients_into_dict(people, *args):\n",
    "    array = []\n",
    "    for arg in args:\n",
    "        dic = {}\n",
    "        for key, value in zip(people, arg):\n",
    "            dic.setdefault(key, []).append(value)\n",
    "        for key in dic.keys():\n",
    "            dic[key] = np.array(dic[key])\n",
    "        if len(args) == 1:\n",
    "            return dic\n",
    "        else:\n",
    "            array.append(dic)\n",
    "    return tuple(array)"
   ]
  },
  {
   "cell_type": "code",
   "execution_count": 70,
   "metadata": {},
   "outputs": [],
   "source": [
    "td, tl = split_clients_into_dict(people, train_data, train_labels)\n",
    "# train_data = split_clients_into_dict(people, train_data)"
   ]
  },
  {
   "cell_type": "code",
   "execution_count": 72,
   "metadata": {},
   "outputs": [
    {
     "data": {
      "text/plain": [
       "{2: array([[0., 1.],\n",
       "        [0., 1.]]), 3: array([[1., 0.],\n",
       "        [1., 0.]]), 4: array([[1., 0.],\n",
       "        [0., 1.]]), 6: array([[1., 0.]]), 7: array([[1., 0.]]), 9: array([[1., 0.]]), 0: array([[0., 1.]])}"
      ]
     },
     "execution_count": 72,
     "metadata": {},
     "output_type": "execute_result"
    }
   ],
   "source": [
    "tl"
   ]
  },
  {
   "cell_type": "code",
   "execution_count": null,
   "metadata": {},
   "outputs": [],
   "source": []
  }
 ],
 "metadata": {
  "kernelspec": {
   "display_name": "Python 3",
   "language": "python",
   "name": "python3"
  },
  "language_info": {
   "codemirror_mode": {
    "name": "ipython",
    "version": 3
   },
   "file_extension": ".py",
   "mimetype": "text/x-python",
   "name": "python",
   "nbconvert_exporter": "python",
   "pygments_lexer": "ipython3",
   "version": "3.7.2"
  }
 },
 "nbformat": 4,
 "nbformat_minor": 1
}
