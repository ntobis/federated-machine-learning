{
 "cells": [
  {
   "cell_type": "code",
   "execution_count": 31,
   "metadata": {},
   "outputs": [],
   "source": [
    "import os\n",
    "import matplotlib.pyplot as plt\n",
    "\n",
    "import cv2\n",
    "import tensorflow as tf\n",
    "import numpy as np\n",
    "import re\n",
    "\n",
    "ROOT = \"/Users/nicolastobis/PycharmProjects/federated-machine-learning\"\n",
    "DATA = os.path.join(ROOT, \"Data\")\n",
    "RAW_DATA = os.path.join(DATA, \"Raw Data\")\n",
    "RAW_PAIN_DATA = os.path.join(RAW_DATA, \"Pain\")\n",
    "RAW_PAIN_TRAINING_DATA = os.path.join(RAW_PAIN_DATA, \"training\")\n",
    "RAW_PAIN_TEST_DATA = os.path.join(RAW_PAIN_DATA, \"test\")\n",
    "PREPROCESSED_DATA = os.path.join(DATA, \"Preprocessed Data\")\n",
    "PREPROCESSED_PAIN_DATA = os.path.join(PREPROCESSED_DATA, \"Pain\")\n",
    "PREPROCESSED_PAIN_TRAINING_DATA = os.path.join(PREPROCESSED_PAIN_DATA, \"training\")\n",
    "PREPROCESSED_PAIN_TEST_DATA = os.path.join(PREPROCESSED_PAIN_DATA, \"test\")\n",
    "\n",
    "models = tf.keras.models  # like 'from tensorflow.keras import models' (PyCharm import issue workaround)\n",
    "layers = tf.keras.layers  # like 'from tensorflow.keras import layers' (PyCharm import issue workaround)\n",
    "optimizers = tf.keras.optimizers  # like 'from tensorflow.keras import optimizers' (PyCharm import issue workaround)"
   ]
  },
  {
   "cell_type": "code",
   "execution_count": 29,
   "metadata": {},
   "outputs": [],
   "source": [
    "def build_cnn(input_shape):\n",
    "    \"\"\"\n",
    "    Compile and return a simple CNN model for image recognition.\n",
    "\n",
    "    Configuration:\n",
    "    Layer 1: Convolution Layer | Filters: 32 | Kernel Size: 3x3 | Activation: Relu\n",
    "    Layer 2: Max Pooling Layer | Filter: 2x2\n",
    "    Layer 3: Dense Layer       | Neurons: 32 | Activation: Relu\n",
    "    Layer 4: Dense Layer       | Neurons: 10 | Activation: Softmax\n",
    "\n",
    "    Optimizer:      Adam\n",
    "    Loss function:  Sparse Categorical Cross Entropy\n",
    "    Loss metric:    Accuracy\n",
    "\n",
    "\n",
    "    :param input_shape:     image input shape (tuple), e.g. (28, 28, 1)\n",
    "\n",
    "    :return:\n",
    "        model               compiled tensorflow model\n",
    "    \"\"\"\n",
    "\n",
    "    # Set up model type\n",
    "    model = models.Sequential()\n",
    "\n",
    "    # Add layers, inspired by https://www.tensorflow.org/beta/tutorials/images/intro_to_cnns\n",
    "    model.add(layers.Conv2D(32, (5, 5), input_shape=input_shape))\n",
    "    model.add(layers.MaxPooling2D((2, 2)))\n",
    "    model.add(layers.Conv2D(64, (5, 5), input_shape=input_shape))\n",
    "    model.add(layers.MaxPooling2D((2, 2)))\n",
    "    model.add(layers.Flatten())\n",
    "    model.add(layers.Dense(512, activation='relu'))\n",
    "    model.add(layers.Dense(10, activation='softmax'))\n",
    "\n",
    "    return model\n",
    "\n",
    "\n",
    "def train_cnn(model, train_data, train_labels, epochs=30, callbacks=None):\n",
    "    \"\"\"\n",
    "    Train and return a simple CNN model for image recognition\n",
    "\n",
    "    :param model:           compiled tensorflow model\n",
    "    :param train_data:      numpy array\n",
    "    :param train_labels:    numpy array\n",
    "    :param epochs:          number of training epochs (i.e. iterations over train_data)\n",
    "    :param callbacks:       array of callback functions\n",
    "\n",
    "    :return:\n",
    "         model              trained tensorflow model\n",
    "    \"\"\"\n",
    "\n",
    "    model.fit(train_data, train_labels, epochs=epochs, batch_size=10, validation_split=0, callbacks=callbacks)\n",
    "    return model"
   ]
  },
  {
   "cell_type": "code",
   "execution_count": 2,
   "metadata": {},
   "outputs": [],
   "source": [
    "def load_and_preprocess_image(path):\n",
    "    img = cv2.imread(path, 0)       # Load image into greyscale\n",
    "    img = cv2.equalizeHist(img)     # Histogram equilization\n",
    "    return img"
   ]
  },
  {
   "cell_type": "code",
   "execution_count": 3,
   "metadata": {},
   "outputs": [],
   "source": [
    "def mirror_folder_structure(inputpath, outputpath):\n",
    "    for dirpath, dirnames, filenames in os.walk(inputpath):\n",
    "        structure = os.path.join(outputpath, dirpath[len(inputpath)+1:])\n",
    "        if not os.path.isdir(structure):\n",
    "            os.mkdir(structure)\n",
    "        else:\n",
    "            print(\"Folder does already exits!\")"
   ]
  },
  {
   "cell_type": "code",
   "execution_count": 4,
   "metadata": {},
   "outputs": [],
   "source": [
    "def bulk_process_images(inputpath, outputpath, extension):\n",
    "    for dirpath, dirnames, filenames in os.walk(inputpath):\n",
    "        structure = os.path.join(outputpath, dirpath[len(inputpath)+1:])\n",
    "        for file in filenames:\n",
    "            if file.endswith(extension):\n",
    "                src = os.path.join(dirpath, file)\n",
    "                dest = os.path.join(structure, file)\n",
    "                img = load_and_preprocess_image(src)\n",
    "                cv2.imwrite(dest,img)"
   ]
  },
  {
   "cell_type": "code",
   "execution_count": 21,
   "metadata": {},
   "outputs": [],
   "source": [
    "def tf_load_image(path):\n",
    "    image = tf.io.read_file(path)\n",
    "    image = tf.image.decode_jpeg(image, channels=0)\n",
    "    return tf.image.convert_image_dtype(image, tf.float32)"
   ]
  },
  {
   "cell_type": "code",
   "execution_count": 22,
   "metadata": {},
   "outputs": [],
   "source": [
    "def get_image_paths(root_path):\n",
    "    image_paths = []\n",
    "    for dirpath, dirnames, filenames in os.walk(root_path):\n",
    "        for file in filenames:\n",
    "            image_paths.append(os.path.join(dirpath, file))\n",
    "    return image_paths"
   ]
  },
  {
   "cell_type": "code",
   "execution_count": 23,
   "metadata": {},
   "outputs": [],
   "source": [
    "def get_labels(image_paths, label_type='pain'):\n",
    "    label_types = {\n",
    "        'person': 0,\n",
    "        'session': 1,\n",
    "        'culture': 2,\n",
    "        'frame': 3,\n",
    "        'pain': 4,\n",
    "    }\n",
    "    \n",
    "    labels = []\n",
    "    for path in image_paths:\n",
    "        filename = os.path.basename(path)\n",
    "        filename, extension = os.path.splitext(filename)\n",
    "        img_labels = filename.split(\"_\")\n",
    "        label = int(img_labels[label_types[label_type]])\n",
    "        labels.append(label)\n",
    "    return labels"
   ]
  },
  {
   "cell_type": "code",
   "execution_count": 49,
   "metadata": {},
   "outputs": [],
   "source": [
    "def load_all_images_into_tf_dataset(path):\n",
    "    img_paths = get_image_paths(PREPROCESSED_PAIN_DATA)\n",
    "    \n",
    "    path_ds = tf.data.Dataset.from_tensor_slices(img_paths)\n",
    "    image_ds = path_ds.map(tf_load_and_preprocess_image, num_parallel_calls=tf.data.experimental.AUTOTUNE)\n",
    "    \n",
    "    labels = get_labels(img_paths)\n",
    "    label_ds = tf.data.Dataset.from_tensor_slices(tf.cast(labels, tf.int64))\n",
    "    \n",
    "    image_label_ds = tf.data.Dataset.zip((image_ds, label_ds))\n",
    "    return image_label_ds, len(labels)"
   ]
  },
  {
   "cell_type": "code",
   "execution_count": 56,
   "metadata": {},
   "outputs": [],
   "source": [
    "def prepare_dataset_for_training(ds, batch_size, ds_size):\n",
    "    # Setting a shuffle buffer size as large as the dataset ensures that the data is\n",
    "    # completely shuffled.\n",
    "    ds = ds.cache()\n",
    "    ds = ds.shuffle(buffer_size=ds_size)\n",
    "    ds = ds.repeat()\n",
    "    ds = ds.batch(batch_size)\n",
    "    # `prefetch` lets the dataset fetch batches, in the background while the model is training.\n",
    "    ds = ds.prefetch(buffer_size=tf.data.experimental.AUTOTUNE)\n",
    "    return ds"
   ]
  },
  {
   "cell_type": "code",
   "execution_count": 59,
   "metadata": {},
   "outputs": [],
   "source": [
    "img_paths = get_image_paths(PREPROCESSED_PAIN_TRAINING_DATA)"
   ]
  },
  {
   "cell_type": "code",
   "execution_count": 84,
   "metadata": {},
   "outputs": [],
   "source": [
    "data = np.array([np.expand_dims(cv2.imread(path, 0), -1) for path in img_paths])"
   ]
  },
  {
   "cell_type": "code",
   "execution_count": 89,
   "metadata": {},
   "outputs": [],
   "source": [
    "labels = np.array(get_labels(img_paths, label_type='pain'))"
   ]
  },
  {
   "cell_type": "code",
   "execution_count": 109,
   "metadata": {},
   "outputs": [],
   "source": [
    "def load_greyscale_image_data(path, label_type='pain'):\n",
    "    img_paths = get_image_paths(path)\n",
    "    data = np.array([np.expand_dims(cv2.imread(path, 0), -1) for path in img_paths])\n",
    "    labels = np.array(get_labels(img_paths, label_type=label_type))\n",
    "    return data, labels\n",
    "\n",
    "\n",
    "def load_pain_data(train_path, test_path, label_type='pain'):\n",
    "    train_data, train_labels = load_greyscale_image_data(train_path, label_type)\n",
    "    test_data, test_labels = load_greyscale_image_data(test_path, label_type)\n",
    "    return train_data, train_labels, test_data, test_labels\n",
    "\n",
    "\n",
    "def reduce_pain_label_categories(labels, max_pain):\n",
    "    return np.minimum(labels, max_pain)"
   ]
  },
  {
   "cell_type": "code",
   "execution_count": 98,
   "metadata": {},
   "outputs": [],
   "source": [
    "train_data, train_labels, test_data, test_labels = load_pain_data(PREPROCESSED_PAIN_TRAINING_DATA, PREPROCESSED_PAIN_TEST_DATA)"
   ]
  },
  {
   "cell_type": "code",
   "execution_count": 110,
   "metadata": {},
   "outputs": [],
   "source": [
    "train_labels_red = reduce_pain_label_categories(train_labels, max_pain=1)\n",
    "test_labels_red = reduce_pain_label_categories(test_labels, max_pain=1)"
   ]
  },
  {
   "cell_type": "code",
   "execution_count": 113,
   "metadata": {},
   "outputs": [
    {
     "data": {
      "text/plain": [
       "(array([0, 1]), array([20567,  5177]))"
      ]
     },
     "execution_count": 113,
     "metadata": {},
     "output_type": "execute_result"
    }
   ],
   "source": [
    "np.unique(train_labels_red, return_counts=True)\n",
    "np.unique(test_labels_red, return_counts=True)"
   ]
  },
  {
   "cell_type": "code",
   "execution_count": null,
   "metadata": {},
   "outputs": [],
   "source": []
  }
 ],
 "metadata": {
  "kernelspec": {
   "display_name": "Python 3",
   "language": "python",
   "name": "python3"
  },
  "language_info": {
   "codemirror_mode": {
    "name": "ipython",
    "version": 3
   },
   "file_extension": ".py",
   "mimetype": "text/x-python",
   "name": "python",
   "nbconvert_exporter": "python",
   "pygments_lexer": "ipython3",
   "version": "3.7.3"
  }
 },
 "nbformat": 4,
 "nbformat_minor": 1
}
