{
 "cells": [
  {
   "cell_type": "code",
   "execution_count": 161,
   "metadata": {},
   "outputs": [],
   "source": [
    "import numpy as np\n",
    "import os\n",
    "import pandas as pd\n",
    "from matplotlib import pyplot as plt"
   ]
  },
  {
   "cell_type": "code",
   "execution_count": 253,
   "metadata": {},
   "outputs": [],
   "source": [
    "df = pd.DataFrame(np.random.randn(8, 4), columns=['Train Loss', 'Train Accuracy', 'Test Loss', 'Test Accuracy'])"
   ]
  },
  {
   "cell_type": "code",
   "execution_count": 254,
   "metadata": {},
   "outputs": [],
   "source": [
    "def plot_federated_loss(history):\n",
    "    \"\"\"\n",
    "    Plot loss of federated learning over communication rounds\n",
    "\n",
    "    :param history:           pandas data-frame with 'Loss' column\n",
    "\n",
    "    \"\"\"\n",
    "\n",
    "    plt.plot(history.index + 1, history['Train Loss'])\n",
    "    plt.plot(history.index + 1, history['Test Loss'])\n",
    "    plt.title('Model loss')\n",
    "    plt.ylabel('Loss')\n",
    "    plt.xlabel('Communication Round')\n",
    "    plt.xticks(np.arange(min(history.index + 1), max(history.index + 1) + 1, step=1))\n",
    "    plt.legend(loc='upper left')\n",
    "    plt.show()"
   ]
  },
  {
   "cell_type": "code",
   "execution_count": 256,
   "metadata": {},
   "outputs": [
    {
     "data": {
      "text/html": [
       "<div>\n",
       "<style scoped>\n",
       "    .dataframe tbody tr th:only-of-type {\n",
       "        vertical-align: middle;\n",
       "    }\n",
       "\n",
       "    .dataframe tbody tr th {\n",
       "        vertical-align: top;\n",
       "    }\n",
       "\n",
       "    .dataframe thead th {\n",
       "        text-align: right;\n",
       "    }\n",
       "</style>\n",
       "<table border=\"1\" class=\"dataframe\">\n",
       "  <thead>\n",
       "    <tr style=\"text-align: right;\">\n",
       "      <th></th>\n",
       "      <th>Train Loss</th>\n",
       "      <th>Train Accuracy</th>\n",
       "      <th>Test Loss</th>\n",
       "      <th>Test Accuracy</th>\n",
       "    </tr>\n",
       "  </thead>\n",
       "  <tbody>\n",
       "    <tr>\n",
       "      <th>0</th>\n",
       "      <td>0.149525</td>\n",
       "      <td>1.043217</td>\n",
       "      <td>-0.215890</td>\n",
       "      <td>1.126313</td>\n",
       "    </tr>\n",
       "    <tr>\n",
       "      <th>1</th>\n",
       "      <td>0.398056</td>\n",
       "      <td>0.559654</td>\n",
       "      <td>-0.082017</td>\n",
       "      <td>-0.647285</td>\n",
       "    </tr>\n",
       "    <tr>\n",
       "      <th>2</th>\n",
       "      <td>-1.621107</td>\n",
       "      <td>1.247299</td>\n",
       "      <td>0.432849</td>\n",
       "      <td>-1.358312</td>\n",
       "    </tr>\n",
       "    <tr>\n",
       "      <th>3</th>\n",
       "      <td>-0.430191</td>\n",
       "      <td>0.472766</td>\n",
       "      <td>0.189174</td>\n",
       "      <td>-0.432453</td>\n",
       "    </tr>\n",
       "    <tr>\n",
       "      <th>4</th>\n",
       "      <td>-0.330172</td>\n",
       "      <td>1.990425</td>\n",
       "      <td>1.115918</td>\n",
       "      <td>0.162675</td>\n",
       "    </tr>\n",
       "    <tr>\n",
       "      <th>5</th>\n",
       "      <td>-0.396266</td>\n",
       "      <td>-0.354560</td>\n",
       "      <td>0.182219</td>\n",
       "      <td>0.120867</td>\n",
       "    </tr>\n",
       "    <tr>\n",
       "      <th>6</th>\n",
       "      <td>-0.858765</td>\n",
       "      <td>-1.248355</td>\n",
       "      <td>0.650752</td>\n",
       "      <td>0.327581</td>\n",
       "    </tr>\n",
       "    <tr>\n",
       "      <th>7</th>\n",
       "      <td>-0.437196</td>\n",
       "      <td>-0.127209</td>\n",
       "      <td>-0.145571</td>\n",
       "      <td>-1.429009</td>\n",
       "    </tr>\n",
       "  </tbody>\n",
       "</table>\n",
       "</div>"
      ],
      "text/plain": [
       "   Train Loss  Train Accuracy  Test Loss  Test Accuracy\n",
       "0    0.149525        1.043217  -0.215890       1.126313\n",
       "1    0.398056        0.559654  -0.082017      -0.647285\n",
       "2   -1.621107        1.247299   0.432849      -1.358312\n",
       "3   -0.430191        0.472766   0.189174      -0.432453\n",
       "4   -0.330172        1.990425   1.115918       0.162675\n",
       "5   -0.396266       -0.354560   0.182219       0.120867\n",
       "6   -0.858765       -1.248355   0.650752       0.327581\n",
       "7   -0.437196       -0.127209  -0.145571      -1.429009"
      ]
     },
     "execution_count": 256,
     "metadata": {},
     "output_type": "execute_result"
    }
   ],
   "source": [
    "df"
   ]
  },
  {
   "cell_type": "code",
   "execution_count": 255,
   "metadata": {},
   "outputs": [
    {
     "data": {
      "image/png": "[encoded data removed]",
      "text/plain": [
       "<Figure size 432x288 with 1 Axes>"
      ]
     },
     "metadata": {
      "needs_background": "light"
     },
     "output_type": "display_data"
    }
   ],
   "source": [
    "plot_federated_loss(df)"
   ]
  },
  {
   "cell_type": "code",
   "execution_count": null,
   "metadata": {},
   "outputs": [],
   "source": []
  }
 ],
 "metadata": {
  "kernelspec": {
   "display_name": "Python 3",
   "language": "python",
   "name": "python3"
  },
  "language_info": {
   "codemirror_mode": {
    "name": "ipython",
    "version": 3
   },
   "file_extension": ".py",
   "mimetype": "text/x-python",
   "name": "python",
   "nbconvert_exporter": "python",
   "pygments_lexer": "ipython3",
   "version": "3.7.2"
  }
 },
 "nbformat": 4,
 "nbformat_minor": 1
}
